{
 "cells": [
  {
   "cell_type": "markdown",
   "metadata": {},
   "source": [
    "# Chapter 30: Graphs"
   ]
  },
  {
   "cell_type": "code",
   "execution_count": 1,
   "metadata": {},
   "outputs": [],
   "source": [
    "from pyspark.sql import SparkSession\n",
    "import os\n",
    "\n",
    "os.environ['PYSPARK_SUBMIT_ARGS'] = '--packages graphframes:graphframes:0.5.0-spark2.1-s_2.11 pyspark-shell'\n",
    "spark = SparkSession.builder.master(\"local\").appName(\"Chapter30\").getOrCreate()"
   ]
  },
  {
   "cell_type": "code",
   "execution_count": 2,
   "metadata": {},
   "outputs": [
    {
     "name": "stdout",
     "output_type": "stream",
     "text": [
      "+----------+--------------------+---------+-----------+---------+--------+------------+\n",
      "|station_id|                name|      lat|       long|dockcount|landmark|installation|\n",
      "+----------+--------------------+---------+-----------+---------+--------+------------+\n",
      "|         2|San Jose Diridon ...|37.329732|-121.901782|       27|San Jose|    8/6/2013|\n",
      "|         3|San Jose Civic Ce...|37.330698|-121.888979|       15|San Jose|    8/5/2013|\n",
      "|         4|Santa Clara at Al...|37.333988|-121.894902|       11|San Jose|    8/6/2013|\n",
      "|         5|    Adobe on Almaden|37.331415|  -121.8932|       19|San Jose|    8/5/2013|\n",
      "|         6|    San Pedro Square|37.336721|-121.894074|       15|San Jose|    8/7/2013|\n",
      "+----------+--------------------+---------+-----------+---------+--------+------------+\n",
      "only showing top 5 rows\n",
      "\n"
     ]
    }
   ],
   "source": [
    "bikeStations = spark.read.format(\"csv\").option(\"header\", \"True\").load(\"../data/bike-data/201508_station_data.csv\")\n",
    "bikeStations.show(5)"
   ]
  },
  {
   "cell_type": "code",
   "execution_count": 3,
   "metadata": {},
   "outputs": [
    {
     "name": "stdout",
     "output_type": "stream",
     "text": [
      "+-------+--------+---------------+--------------------+--------------+---------------+--------------------+------------+------+---------------+--------+\n",
      "|Trip ID|Duration|     Start Date|       Start Station|Start Terminal|       End Date|         End Station|End Terminal|Bike #|Subscriber Type|Zip Code|\n",
      "+-------+--------+---------------+--------------------+--------------+---------------+--------------------+------------+------+---------------+--------+\n",
      "| 913460|     765|8/31/2015 23:26|Harry Bridges Pla...|            50|8/31/2015 23:39|San Francisco Cal...|          70|   288|     Subscriber|    2139|\n",
      "| 913459|    1036|8/31/2015 23:11|San Antonio Shopp...|            31|8/31/2015 23:28|Mountain View Cit...|          27|    35|     Subscriber|   95032|\n",
      "| 913455|     307|8/31/2015 23:13|      Post at Kearny|            47|8/31/2015 23:18|   2nd at South Park|          64|   468|     Subscriber|   94107|\n",
      "| 913454|     409|8/31/2015 23:10|  San Jose City Hall|            10|8/31/2015 23:17| San Salvador at 1st|           8|    68|     Subscriber|   95113|\n",
      "| 913453|     789|8/31/2015 23:09|Embarcadero at Fo...|            51|8/31/2015 23:22|Embarcadero at Sa...|          60|   487|       Customer|    9069|\n",
      "+-------+--------+---------------+--------------------+--------------+---------------+--------------------+------------+------+---------------+--------+\n",
      "only showing top 5 rows\n",
      "\n"
     ]
    }
   ],
   "source": [
    "tripData = spark.read.format(\"csv\").option(\"header\", \"True\").load(\"../data/bike-data/201508_trip_data.csv\")\n",
    "tripData.show(5)"
   ]
  },
  {
   "cell_type": "code",
   "execution_count": 4,
   "metadata": {},
   "outputs": [
    {
     "name": "stdout",
     "output_type": "stream",
     "text": [
      "Number of stations (vertices) = 70\n",
      "Number of trips in graph (edges) = 354152\n",
      "Number of trips in original data = 354152\n"
     ]
    }
   ],
   "source": [
    "# build the directed graph\n",
    "stationVertices = bikeStations.withColumnRenamed(\"name\", \"id\").distinct()\n",
    "tripEdges = tripData.withColumnRenamed(\"Start Station\", \"src\").withColumnRenamed(\"End Station\", \"dst\")\n",
    "\n",
    "from graphframes import GraphFrame\n",
    "stationGraph = GraphFrame(stationVertices, tripEdges)\n",
    "stationGraph.cache()\n",
    "\n",
    "print(\"Number of stations (vertices) = {}\".format(stationGraph.vertices.count()))\n",
    "print(\"Number of trips in graph (edges) = {}\".format(stationGraph.edges.count()))\n",
    "print(\"Number of trips in original data = {}\".format(tripData.count()))"
   ]
  },
  {
   "cell_type": "markdown",
   "metadata": {},
   "source": [
    "## Querying the graph\n",
    "\n",
    "The object `graph.edges` and `graph.vertices` are spark dataframes and can be queried as such, obviously."
   ]
  },
  {
   "cell_type": "markdown",
   "metadata": {},
   "source": [
    "from pyspark.sql.functions import desc\n",
    "\n",
    "stationGraph.edges.groupBy([\"src\", \"dst\"]).count().orderBy(desc(\"count\")).show(10)"
   ]
  },
  {
   "cell_type": "code",
   "execution_count": 5,
   "metadata": {},
   "outputs": [
    {
     "name": "stdout",
     "output_type": "stream",
     "text": [
      "+--------------------+--------------------+-----+\n",
      "|                 src|                 dst|count|\n",
      "+--------------------+--------------------+-----+\n",
      "|San Francisco Cal...|     Townsend at 7th| 3748|\n",
      "|     Townsend at 7th|San Francisco Cal...| 2734|\n",
      "|     Townsend at 7th|San Francisco Cal...| 2192|\n",
      "|     Townsend at 7th|Civic Center BART...| 1844|\n",
      "|Civic Center BART...|     Townsend at 7th| 1765|\n",
      "|San Francisco Cal...|     Townsend at 7th| 1198|\n",
      "|Temporary Transba...|     Townsend at 7th|  834|\n",
      "|     Townsend at 7th|Harry Bridges Pla...|  827|\n",
      "|   Steuart at Market|     Townsend at 7th|  746|\n",
      "|     Townsend at 7th|Temporary Transba...|  740|\n",
      "+--------------------+--------------------+-----+\n",
      "only showing top 10 rows\n",
      "\n"
     ]
    }
   ],
   "source": [
    "# number of trips in an out of station\n",
    "from pyspark.sql.functions import desc\n",
    "\n",
    "stationGraph.edges.where(\"src = 'Townsend at 7th' OR dst = 'Townsend at 7th'\")\\\n",
    "                  .groupby(\"src\", \"dst\").count().orderBy(desc(\"count\")).show(10)"
   ]
  },
  {
   "cell_type": "markdown",
   "metadata": {},
   "source": [
    "## Subgraphs\n",
    "\n",
    "Given that under the hook a graph it is just a combination of two dataframes (vertices, edges) we can create subgraphs by querying the bigger graph."
   ]
  },
  {
   "cell_type": "code",
   "execution_count": 6,
   "metadata": {},
   "outputs": [],
   "source": [
    "# edges must be filtered, but not vertices\n",
    "subEdges = stationGraph.edges.where(\"src = 'Townsend at 7th' OR dst = 'Townsend at 7th'\")\n",
    "subGraph = GraphFrame(stationGraph.vertices, subEdges)"
   ]
  },
  {
   "cell_type": "markdown",
   "metadata": {},
   "source": [
    "## Motif finding\n",
    "\n",
    "Motifs are structural patterns in the graph, the Neo4j syntax is used to specify them."
   ]
  },
  {
   "cell_type": "code",
   "execution_count": 7,
   "metadata": {},
   "outputs": [
    {
     "name": "stdout",
     "output_type": "stream",
     "text": [
      "+---+---+---+----------+--------+\n",
      "|id |id |id |Start Date|End Date|\n",
      "+---+---+---+----------+--------+\n",
      "+---+---+---+----------+--------+\n",
      "\n"
     ]
    }
   ],
   "source": [
    "# (a) represents vertix a\n",
    "# [ab] represent edge ab\n",
    "\n",
    "# next motif is for circular itineraries through 3 stations (a, b, c, a)\n",
    "motifs = stationGraph.find(\"(a)-[ab]->(b); (b)-[bc]->(c); (c)-[ca]->(a)\")\\\n",
    "\n",
    "# we want now to query for the fastest bike trip through 3 stations\n",
    "# we must parse timestamps \n",
    "# ensure that it is the same bike all along\n",
    "# ensure that all stations are different\n",
    "# ensure that the trip order is respected through time\n",
    "from pyspark.sql.functions import expr\n",
    "\n",
    "motifs.selectExpr(\"*\", \n",
    "                  \"to_timestamp(ab.`Start Date`, 'MM/dd/yyyy/HH:mm') as abStart\", \n",
    "                  \"to_timestamp(bc.`Start Date`, 'MM/dd/yyyy/HH:mm') as bcStart\", \n",
    "                  \"to_timestamp(ca.`Start Date`, 'MM/dd/yyyy/HH:mm') as caStart\")\\\n",
    "      .where(\"ca.`Bike #` = bc.`Bike #`\").where(\"ab.`Bike #` = bc.`Bike #`\")\\\n",
    "      .where(\"a.id != b.id\").where(\"b.id != c.id\")\\\n",
    "      .where(\"abStart < bcStart\").where(\"bcStart < caStart\")\\\n",
    "      .orderBy(expr(\"cast(caStart as long) - cast(abStart as long)\"))\\\n",
    "      .selectExpr(\"a.id\", \"b.id\", \"c.id\", \"ab.`Start Date`\", \"ca.`End Date`\")\\\n",
    "      .limit(1).show(1, False)"
   ]
  },
  {
   "cell_type": "markdown",
   "metadata": {},
   "source": [
    "## Pagerank\n"
   ]
  },
  {
   "cell_type": "code",
   "execution_count": 8,
   "metadata": {},
   "outputs": [
    {
     "name": "stdout",
     "output_type": "stream",
     "text": [
      "+--------------------+------------------+\n",
      "|                  id|          pageRank|\n",
      "+--------------------+------------------+\n",
      "|San Jose Diridon ...| 4.051504835989922|\n",
      "|San Francisco Cal...|3.3511832964279518|\n",
      "|Mountain View Cal...|  2.51439077101569|\n",
      "|Redwood City Calt...| 2.326308771371272|\n",
      "|San Francisco Cal...|2.2311442913697364|\n",
      "|Harry Bridges Pla...|1.8251120118883524|\n",
      "|     2nd at Townsend|1.5821217785041168|\n",
      "|Santa Clara at Al...|1.5730074084908332|\n",
      "|     Townsend at 7th| 1.568456580534273|\n",
      "|Embarcadero at Sa...|1.5414242087749768|\n",
      "+--------------------+------------------+\n",
      "only showing top 10 rows\n",
      "\n"
     ]
    }
   ],
   "source": [
    "ranks = stationGraph.pageRank(resetProbability=0.15, maxIter=10)\n",
    "ranks.vertices.orderBy(desc(\"pageRank\")).select(\"id\", \"pageRank\").show(10)"
   ]
  },
  {
   "cell_type": "markdown",
   "metadata": {},
   "source": [
    "## Directed graphs: in-degree and out-degree"
   ]
  },
  {
   "cell_type": "code",
   "execution_count": 10,
   "metadata": {},
   "outputs": [
    {
     "name": "stdout",
     "output_type": "stream",
     "text": [
      "+----------------------------------------+--------+\n",
      "|id                                      |inDegree|\n",
      "+----------------------------------------+--------+\n",
      "|San Francisco Caltrain (Townsend at 4th)|34810   |\n",
      "|San Francisco Caltrain 2 (330 Townsend) |22523   |\n",
      "|Harry Bridges Plaza (Ferry Building)    |17810   |\n",
      "|2nd at Townsend                         |15463   |\n",
      "|Townsend at 7th                         |15422   |\n",
      "+----------------------------------------+--------+\n",
      "only showing top 5 rows\n",
      "\n",
      "+---------------------------------------------+---------+\n",
      "|id                                           |outDegree|\n",
      "+---------------------------------------------+---------+\n",
      "|San Francisco Caltrain (Townsend at 4th)     |26304    |\n",
      "|San Francisco Caltrain 2 (330 Townsend)      |21758    |\n",
      "|Harry Bridges Plaza (Ferry Building)         |17255    |\n",
      "|Temporary Transbay Terminal (Howard at Beale)|14436    |\n",
      "|Embarcadero at Sansome                       |14158    |\n",
      "+---------------------------------------------+---------+\n",
      "only showing top 5 rows\n",
      "\n"
     ]
    }
   ],
   "source": [
    "# stations with highest incoming trips\n",
    "stationGraph.inDegrees.orderBy(desc(\"inDegree\")).show(5, False)\n",
    "\n",
    "# stationsn with highest outgoing trips\n",
    "stationGraph.outDegrees.orderBy(desc(\"outDegree\")).show(5, False)"
   ]
  },
  {
   "cell_type": "markdown",
   "metadata": {},
   "source": [
    "## Breadth-First-Search\n",
    "\n",
    "Will search on how to connect two nodes (or set of nodes) based on the edges of the graph."
   ]
  },
  {
   "cell_type": "code",
   "execution_count": 12,
   "metadata": {},
   "outputs": [
    {
     "name": "stdout",
     "output_type": "stream",
     "text": [
      "+--------------------+--------------------+--------------------+\n",
      "|                from|                  e0|                  to|\n",
      "+--------------------+--------------------+--------------------+\n",
      "|[65, Townsend at ...|[913371, 663, 8/3...|[49, Spear at Fol...|\n",
      "|[65, Townsend at ...|[913265, 658, 8/3...|[49, Spear at Fol...|\n",
      "|[65, Townsend at ...|[911919, 722, 8/3...|[49, Spear at Fol...|\n",
      "|[65, Townsend at ...|[910777, 704, 8/2...|[49, Spear at Fol...|\n",
      "|[65, Townsend at ...|[908994, 1115, 8/...|[49, Spear at Fol...|\n",
      "|[65, Townsend at ...|[906912, 892, 8/2...|[49, Spear at Fol...|\n",
      "|[65, Townsend at ...|[905201, 980, 8/2...|[49, Spear at Fol...|\n",
      "|[65, Townsend at ...|[904010, 969, 8/2...|[49, Spear at Fol...|\n",
      "|[65, Townsend at ...|[903375, 850, 8/2...|[49, Spear at Fol...|\n",
      "|[65, Townsend at ...|[899944, 910, 8/2...|[49, Spear at Fol...|\n",
      "+--------------------+--------------------+--------------------+\n",
      "only showing top 10 rows\n",
      "\n"
     ]
    }
   ],
   "source": [
    "stationGraph.bfs(fromExpr=\"id = 'Townsend at 7th'\", toExpr=\"id = 'Spear at Folsom'\", maxPathLength=2).show(10)"
   ]
  },
  {
   "cell_type": "markdown",
   "metadata": {},
   "source": [
    "## Connected components\n",
    "\n",
    "It basically finds islands (subgraphs that are not connected to the main graph).\n",
    "It runs on undirected graphs.\n",
    "\n",
    "For demonstration purposes it will be run on this dataset."
   ]
  },
  {
   "cell_type": "code",
   "execution_count": 13,
   "metadata": {},
   "outputs": [],
   "source": [
    "# needed to run connected components\n",
    "spark.sparkContext.setCheckpointDir(\"/tmp/checkpoints\")"
   ]
  },
  {
   "cell_type": "code",
   "execution_count": 15,
   "metadata": {},
   "outputs": [],
   "source": [
    "# undersample the graph to make it runnable\n",
    "minGraph = GraphFrame(stationGraph.vertices, stationGraph.edges.sample(0.1, False))\n",
    "cc = minGraph.connectedComponents()  # result depends on the sample taken"
   ]
  },
  {
   "cell_type": "code",
   "execution_count": 16,
   "metadata": {},
   "outputs": [
    {
     "name": "stdout",
     "output_type": "stream",
     "text": [
      "+----------+--------------------+---------+-----------+---------+-------------+------------+------------+\n",
      "|station_id|                  id|      lat|       long|dockcount|     landmark|installation|   component|\n",
      "+----------+--------------------+---------+-----------+---------+-------------+------------+------------+\n",
      "|        33|Rengstorff Avenue...|37.400241|-122.099076|       15|Mountain View|   8/16/2013|  8589934592|\n",
      "|        25|Stanford in Redwo...| 37.48537|-122.203288|       15| Redwood City|   8/12/2013|  8589934592|\n",
      "|        84|         Ryland Park|37.342725|-121.895617|       15|     San Jose|    4/9/2014|  8589934592|\n",
      "|        12|SJSU 4th at San C...|37.332808|-121.883891|       19|     San Jose|    8/7/2013|  8589934592|\n",
      "|        16|SJSU - San Salvad...|37.333955|-121.877349|       15|     San Jose|    8/7/2013|  8589934592|\n",
      "|        36|California Ave Ca...|37.429082|-122.142805|       15|    Palo Alto|   8/14/2013|  8589934592|\n",
      "|        80|Santa Clara Count...|37.352601|-121.905733|       15|     San Jose|  12/31/2013|  8589934592|\n",
      "|        47|     Post at Kearney|37.788975|-122.403452|       19|San Francisco|   8/19/2013|317827579904|\n",
      "|        31|San Antonio Shopp...|37.400443|-122.108338|       15|Mountain View|  12/31/2013|  8589934592|\n",
      "|        46|Washington at Kea...|37.795425|-122.404767|       15|San Francisco|   8/19/2013| 17179869184|\n",
      "|         9|           Japantown|37.348742|-121.894715|       15|     San Jose|    8/5/2013|  8589934592|\n",
      "|        10|  San Jose City Hall|37.337391|-121.886995|       15|     San Jose|    8/6/2013|  8589934592|\n",
      "|        83|          Mezes Park|37.491269|-122.236234|       15| Redwood City|   2/20/2014|  8589934592|\n",
      "|        30|Evelyn Park and Ride|37.390277|-122.066553|       15|Mountain View|   8/16/2013|  8589934592|\n",
      "|        26|Redwood City Medi...|37.487682|-122.223492|       15| Redwood City|   8/12/2013|  8589934592|\n",
      "|        14|Arena Green / SAP...|37.332692|-121.900084|       19|     San Jose|    8/5/2013|  8589934592|\n",
      "|        32|Castro Street and...|37.385956|-122.083678|       11|Mountain View|  12/31/2013|  8589934592|\n",
      "|        28|Mountain View Cal...|37.394358|-122.076713|       23|Mountain View|   8/15/2013|  8589934592|\n",
      "|        13|       St James Park|37.339301|-121.889937|       15|     San Jose|    8/6/2013|  8589934592|\n",
      "|         6|    San Pedro Square|37.336721|-121.894074|       15|     San Jose|    8/7/2013|  8589934592|\n",
      "+----------+--------------------+---------+-----------+---------+-------------+------------+------------+\n",
      "only showing top 20 rows\n",
      "\n"
     ]
    }
   ],
   "source": [
    "cc.where(\"component != 0\").show()"
   ]
  },
  {
   "cell_type": "markdown",
   "metadata": {},
   "source": [
    "## Strongly connected graphs"
   ]
  },
  {
   "cell_type": "code",
   "execution_count": 17,
   "metadata": {},
   "outputs": [
    {
     "name": "stdout",
     "output_type": "stream",
     "text": [
      "+------------+-----+\n",
      "|   component|count|\n",
      "+------------+-----+\n",
      "|128849018880|   16|\n",
      "|  8589934592|   19|\n",
      "|           0|   33|\n",
      "| 17179869184|    1|\n",
      "|317827579904|    1|\n",
      "+------------+-----+\n",
      "\n"
     ]
    }
   ],
   "source": [
    "scc = minGraph.stronglyConnectedComponents(maxIter=3)\n",
    "scc.groupBy(\"component\").count().show()"
   ]
  },
  {
   "cell_type": "code",
   "execution_count": null,
   "metadata": {},
   "outputs": [],
   "source": []
  }
 ],
 "metadata": {
  "kernelspec": {
   "display_name": "Python 3",
   "language": "python",
   "name": "python3"
  },
  "language_info": {
   "codemirror_mode": {
    "name": "ipython",
    "version": 3
   },
   "file_extension": ".py",
   "mimetype": "text/x-python",
   "name": "python",
   "nbconvert_exporter": "python",
   "pygments_lexer": "ipython3",
   "version": "3.6.1"
  }
 },
 "nbformat": 4,
 "nbformat_minor": 2
}
