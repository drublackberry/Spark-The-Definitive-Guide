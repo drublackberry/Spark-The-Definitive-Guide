{
 "cells": [
  {
   "cell_type": "markdown",
   "metadata": {},
   "source": [
    "# Chapter 8 - Joins"
   ]
  },
  {
   "cell_type": "code",
   "execution_count": 1,
   "metadata": {},
   "outputs": [],
   "source": [
    "from pyspark.sql import SparkSession\n",
    "\n",
    "spark = SparkSession.builder.master(\"local\").appName(\"chapter7\").getOrCreate()"
   ]
  },
  {
   "cell_type": "code",
   "execution_count": 2,
   "metadata": {},
   "outputs": [],
   "source": [
    "person = spark.createDataFrame([(0, 'Bill Chambers', 0, [100]), \n",
    "                               (1, 'Matei Zaharia', 1, [500, 250, 100]), \n",
    "                               (2, 'Michael Armbrust', 1, [250, 10])])\\\n",
    "                                .toDF('id', 'name', 'graduate_program', 'spark_status')\n",
    "    \n",
    "graduateProgram = spark.createDataFrame([(0, 'Masters', 'SOI', 'UC Berkeley'), \n",
    "                                        (2, 'Masters', 'EECS', 'UC Berkeley'), \n",
    "                                        (1, 'PhD', 'EECS', 'UC Berkeley')])\\\n",
    "                                        .toDF('id', 'degree', 'department', 'school')\n",
    "    \n",
    "sparkStatus = spark.createDataFrame([(500, 'Vice President'), (250, 'PMC Member'), (100, 'Contributor')])\\\n",
    "                                    .toDF('id', 'status')"
   ]
  },
  {
   "cell_type": "code",
   "execution_count": 3,
   "metadata": {},
   "outputs": [
    {
     "name": "stdout",
     "output_type": "stream",
     "text": [
      "+---+----------------+----------------+---------------+\n",
      "| id|            name|graduate_program|   spark_status|\n",
      "+---+----------------+----------------+---------------+\n",
      "|  0|   Bill Chambers|               0|          [100]|\n",
      "|  1|   Matei Zaharia|               1|[500, 250, 100]|\n",
      "|  2|Michael Armbrust|               1|      [250, 10]|\n",
      "+---+----------------+----------------+---------------+\n",
      "\n"
     ]
    }
   ],
   "source": [
    "person.show()"
   ]
  },
  {
   "cell_type": "code",
   "execution_count": 4,
   "metadata": {},
   "outputs": [
    {
     "name": "stdout",
     "output_type": "stream",
     "text": [
      "+---+-------+----------+-----------+\n",
      "| id| degree|department|     school|\n",
      "+---+-------+----------+-----------+\n",
      "|  0|Masters|       SOI|UC Berkeley|\n",
      "|  2|Masters|      EECS|UC Berkeley|\n",
      "|  1|    PhD|      EECS|UC Berkeley|\n",
      "+---+-------+----------+-----------+\n",
      "\n"
     ]
    }
   ],
   "source": [
    "graduateProgram.show()"
   ]
  },
  {
   "cell_type": "code",
   "execution_count": 5,
   "metadata": {},
   "outputs": [
    {
     "name": "stdout",
     "output_type": "stream",
     "text": [
      "+---+--------------+\n",
      "| id|        status|\n",
      "+---+--------------+\n",
      "|500|Vice President|\n",
      "|250|    PMC Member|\n",
      "|100|   Contributor|\n",
      "+---+--------------+\n",
      "\n"
     ]
    }
   ],
   "source": [
    "sparkStatus.show()"
   ]
  },
  {
   "cell_type": "markdown",
   "metadata": {},
   "source": [
    "## Inner joins"
   ]
  },
  {
   "cell_type": "code",
   "execution_count": 6,
   "metadata": {},
   "outputs": [],
   "source": [
    "joinExpression = person[\"graduate_program\"] == graduateProgram['id']"
   ]
  },
  {
   "cell_type": "code",
   "execution_count": 7,
   "metadata": {},
   "outputs": [
    {
     "name": "stdout",
     "output_type": "stream",
     "text": [
      "+---+----------------+----------------+---------------+---+-------+----------+-----------+\n",
      "| id|            name|graduate_program|   spark_status| id| degree|department|     school|\n",
      "+---+----------------+----------------+---------------+---+-------+----------+-----------+\n",
      "|  0|   Bill Chambers|               0|          [100]|  0|Masters|       SOI|UC Berkeley|\n",
      "|  1|   Matei Zaharia|               1|[500, 250, 100]|  1|    PhD|      EECS|UC Berkeley|\n",
      "|  2|Michael Armbrust|               1|      [250, 10]|  1|    PhD|      EECS|UC Berkeley|\n",
      "+---+----------------+----------------+---------------+---+-------+----------+-----------+\n",
      "\n"
     ]
    }
   ],
   "source": [
    "person.join(graduateProgram, joinExpression).show()"
   ]
  },
  {
   "cell_type": "code",
   "execution_count": 8,
   "metadata": {},
   "outputs": [],
   "source": [
    "## that would not work, no overlap\n",
    "wrongJoinExpression = person['name'] == graduateProgram['school']"
   ]
  },
  {
   "cell_type": "code",
   "execution_count": 9,
   "metadata": {},
   "outputs": [
    {
     "name": "stdout",
     "output_type": "stream",
     "text": [
      "+---+----+----------------+------------+---+------+----------+------+\n",
      "| id|name|graduate_program|spark_status| id|degree|department|school|\n",
      "+---+----+----------------+------------+---+------+----------+------+\n",
      "+---+----+----------------+------------+---+------+----------+------+\n",
      "\n"
     ]
    }
   ],
   "source": [
    "person.join(graduateProgram, wrongJoinExpression).show()"
   ]
  },
  {
   "cell_type": "code",
   "execution_count": 10,
   "metadata": {},
   "outputs": [
    {
     "name": "stdout",
     "output_type": "stream",
     "text": [
      "+---+----------------+----------------+---------------+---+-------+----------+-----------+\n",
      "| id|            name|graduate_program|   spark_status| id| degree|department|     school|\n",
      "+---+----------------+----------------+---------------+---+-------+----------+-----------+\n",
      "|  0|   Bill Chambers|               0|          [100]|  0|Masters|       SOI|UC Berkeley|\n",
      "|  1|   Matei Zaharia|               1|[500, 250, 100]|  1|    PhD|      EECS|UC Berkeley|\n",
      "|  2|Michael Armbrust|               1|      [250, 10]|  1|    PhD|      EECS|UC Berkeley|\n",
      "+---+----------------+----------------+---------------+---+-------+----------+-----------+\n",
      "\n"
     ]
    }
   ],
   "source": [
    "# joinType is a third parameter\n",
    "joinType = \"inner\"\n",
    "person.join(graduateProgram, joinExpression, joinType).show()"
   ]
  },
  {
   "cell_type": "markdown",
   "metadata": {},
   "source": [
    "## Outer joins"
   ]
  },
  {
   "cell_type": "code",
   "execution_count": 11,
   "metadata": {},
   "outputs": [
    {
     "name": "stdout",
     "output_type": "stream",
     "text": [
      "+----+----------------+----------------+---------------+---+-------+----------+-----------+\n",
      "|  id|            name|graduate_program|   spark_status| id| degree|department|     school|\n",
      "+----+----------------+----------------+---------------+---+-------+----------+-----------+\n",
      "|   0|   Bill Chambers|               0|          [100]|  0|Masters|       SOI|UC Berkeley|\n",
      "|   1|   Matei Zaharia|               1|[500, 250, 100]|  1|    PhD|      EECS|UC Berkeley|\n",
      "|   2|Michael Armbrust|               1|      [250, 10]|  1|    PhD|      EECS|UC Berkeley|\n",
      "|null|            null|            null|           null|  2|Masters|      EECS|UC Berkeley|\n",
      "+----+----------------+----------------+---------------+---+-------+----------+-----------+\n",
      "\n"
     ]
    }
   ],
   "source": [
    "joinType = \"outer\"\n",
    "person.join(graduateProgram, joinExpression, joinType).show()"
   ]
  },
  {
   "cell_type": "markdown",
   "metadata": {},
   "source": [
    "## Left Outer joins"
   ]
  },
  {
   "cell_type": "code",
   "execution_count": 12,
   "metadata": {},
   "outputs": [
    {
     "name": "stdout",
     "output_type": "stream",
     "text": [
      "+---+-------+----------+-----------+----+----------------+----------------+---------------+\n",
      "| id| degree|department|     school|  id|            name|graduate_program|   spark_status|\n",
      "+---+-------+----------+-----------+----+----------------+----------------+---------------+\n",
      "|  0|Masters|       SOI|UC Berkeley|   0|   Bill Chambers|               0|          [100]|\n",
      "|  1|    PhD|      EECS|UC Berkeley|   1|   Matei Zaharia|               1|[500, 250, 100]|\n",
      "|  1|    PhD|      EECS|UC Berkeley|   2|Michael Armbrust|               1|      [250, 10]|\n",
      "|  2|Masters|      EECS|UC Berkeley|null|            null|            null|           null|\n",
      "+---+-------+----------+-----------+----+----------------+----------------+---------------+\n",
      "\n"
     ]
    }
   ],
   "source": [
    "jointType = \"left_outer\"\n",
    "graduateProgram.join(person, joinExpression, joinType).show()"
   ]
  },
  {
   "cell_type": "markdown",
   "metadata": {},
   "source": [
    "## Right Outer joins"
   ]
  },
  {
   "cell_type": "code",
   "execution_count": 13,
   "metadata": {},
   "outputs": [
    {
     "name": "stdout",
     "output_type": "stream",
     "text": [
      "+----+----------------+----------------+---------------+---+-------+----------+-----------+\n",
      "|  id|            name|graduate_program|   spark_status| id| degree|department|     school|\n",
      "+----+----------------+----------------+---------------+---+-------+----------+-----------+\n",
      "|   0|   Bill Chambers|               0|          [100]|  0|Masters|       SOI|UC Berkeley|\n",
      "|   1|   Matei Zaharia|               1|[500, 250, 100]|  1|    PhD|      EECS|UC Berkeley|\n",
      "|   2|Michael Armbrust|               1|      [250, 10]|  1|    PhD|      EECS|UC Berkeley|\n",
      "|null|            null|            null|           null|  2|Masters|      EECS|UC Berkeley|\n",
      "+----+----------------+----------------+---------------+---+-------+----------+-----------+\n",
      "\n"
     ]
    }
   ],
   "source": [
    "joinType = \"right_outer\"\n",
    "person.join(graduateProgram, joinExpression, joinType).show()"
   ]
  },
  {
   "cell_type": "markdown",
   "metadata": {},
   "source": [
    "## Left Semi joins\n",
    "It is a left join, but then it does not include any info from the second dataframe. Better understood as filters rather than joins."
   ]
  },
  {
   "cell_type": "code",
   "execution_count": 14,
   "metadata": {},
   "outputs": [
    {
     "name": "stdout",
     "output_type": "stream",
     "text": [
      "+---+-------+----------+-----------+\n",
      "| id| degree|department|     school|\n",
      "+---+-------+----------+-----------+\n",
      "|  0|Masters|       SOI|UC Berkeley|\n",
      "|  1|    PhD|      EECS|UC Berkeley|\n",
      "+---+-------+----------+-----------+\n",
      "\n"
     ]
    }
   ],
   "source": [
    "joinType = \"left_semi\"\n",
    "graduateProgram.join(person, joinExpression, joinType).show()"
   ]
  },
  {
   "cell_type": "code",
   "execution_count": 15,
   "metadata": {},
   "outputs": [
    {
     "name": "stdout",
     "output_type": "stream",
     "text": [
      "+---+-------+--------------+------------------+\n",
      "| id| degree|    department|            school|\n",
      "+---+-------+--------------+------------------+\n",
      "|  0|Masters|           SOI|       UC Berkeley|\n",
      "|  0|Masters|Duplicated Row|Duplicated Schoold|\n",
      "|  1|    PhD|          EECS|       UC Berkeley|\n",
      "+---+-------+--------------+------------------+\n",
      "\n"
     ]
    }
   ],
   "source": [
    "gradProgram2 = graduateProgram.union(spark.createDataFrame([(0, \"Masters\", \"Duplicated Row\", \"Duplicated Schoold\")]))\n",
    "gradProgram2.join(person, joinExpression, joinType).show()"
   ]
  },
  {
   "cell_type": "markdown",
   "metadata": {},
   "source": [
    "## Left Anti joins\n",
    "Opposite of left semi joins. They do not include any info of the right dataframe, they filter by excluding the expression"
   ]
  },
  {
   "cell_type": "code",
   "execution_count": 16,
   "metadata": {},
   "outputs": [
    {
     "name": "stdout",
     "output_type": "stream",
     "text": [
      "+---+-------+----------+-----------+\n",
      "| id| degree|department|     school|\n",
      "+---+-------+----------+-----------+\n",
      "|  2|Masters|      EECS|UC Berkeley|\n",
      "+---+-------+----------+-----------+\n",
      "\n"
     ]
    }
   ],
   "source": [
    "joinType = \"left_anti\"\n",
    "graduateProgram.join(person, joinExpression, joinType).show()"
   ]
  },
  {
   "cell_type": "markdown",
   "metadata": {},
   "source": [
    "## Cross (Cartesian) joins\n",
    "\n",
    "Careful! This will cause an absolute explosion in the number of rows contained in the resulting DataFrame."
   ]
  },
  {
   "cell_type": "code",
   "execution_count": 17,
   "metadata": {},
   "outputs": [
    {
     "name": "stdout",
     "output_type": "stream",
     "text": [
      "+---+-------+----------+-----------+---+----------------+----------------+---------------+\n",
      "| id| degree|department|     school| id|            name|graduate_program|   spark_status|\n",
      "+---+-------+----------+-----------+---+----------------+----------------+---------------+\n",
      "|  0|Masters|       SOI|UC Berkeley|  0|   Bill Chambers|               0|          [100]|\n",
      "|  1|    PhD|      EECS|UC Berkeley|  1|   Matei Zaharia|               1|[500, 250, 100]|\n",
      "|  1|    PhD|      EECS|UC Berkeley|  2|Michael Armbrust|               1|      [250, 10]|\n",
      "+---+-------+----------+-----------+---+----------------+----------------+---------------+\n",
      "\n"
     ]
    }
   ],
   "source": [
    "# this will not work, has to be explicit\n",
    "joinType = \"cross\"\n",
    "graduateProgram.join(person, joinExpression, joinType).show()"
   ]
  },
  {
   "cell_type": "code",
   "execution_count": 18,
   "metadata": {},
   "outputs": [
    {
     "name": "stdout",
     "output_type": "stream",
     "text": [
      "+---+----------------+----------------+---------------+---+-------+----------+-----------+\n",
      "| id|            name|graduate_program|   spark_status| id| degree|department|     school|\n",
      "+---+----------------+----------------+---------------+---+-------+----------+-----------+\n",
      "|  0|   Bill Chambers|               0|          [100]|  0|Masters|       SOI|UC Berkeley|\n",
      "|  0|   Bill Chambers|               0|          [100]|  2|Masters|      EECS|UC Berkeley|\n",
      "|  0|   Bill Chambers|               0|          [100]|  1|    PhD|      EECS|UC Berkeley|\n",
      "|  1|   Matei Zaharia|               1|[500, 250, 100]|  0|Masters|       SOI|UC Berkeley|\n",
      "|  1|   Matei Zaharia|               1|[500, 250, 100]|  2|Masters|      EECS|UC Berkeley|\n",
      "|  1|   Matei Zaharia|               1|[500, 250, 100]|  1|    PhD|      EECS|UC Berkeley|\n",
      "|  2|Michael Armbrust|               1|      [250, 10]|  0|Masters|       SOI|UC Berkeley|\n",
      "|  2|Michael Armbrust|               1|      [250, 10]|  2|Masters|      EECS|UC Berkeley|\n",
      "|  2|Michael Armbrust|               1|      [250, 10]|  1|    PhD|      EECS|UC Berkeley|\n",
      "+---+----------------+----------------+---------------+---+-------+----------+-----------+\n",
      "\n"
     ]
    }
   ],
   "source": [
    "person.crossJoin(graduateProgram).show()"
   ]
  },
  {
   "cell_type": "markdown",
   "metadata": {},
   "source": [
    "## Joins on complex types\n",
    "\n",
    "Any expression is a valid join expression, assuming it returns a boolean"
   ]
  },
  {
   "cell_type": "code",
   "execution_count": 19,
   "metadata": {},
   "outputs": [
    {
     "name": "stdout",
     "output_type": "stream",
     "text": [
      "+--------+----------------+----------------+---------------+---+--------------+\n",
      "|personId|            name|graduate_program|   spark_status| id|        status|\n",
      "+--------+----------------+----------------+---------------+---+--------------+\n",
      "|       0|   Bill Chambers|               0|          [100]|100|   Contributor|\n",
      "|       1|   Matei Zaharia|               1|[500, 250, 100]|500|Vice President|\n",
      "|       1|   Matei Zaharia|               1|[500, 250, 100]|250|    PMC Member|\n",
      "|       1|   Matei Zaharia|               1|[500, 250, 100]|100|   Contributor|\n",
      "|       2|Michael Armbrust|               1|      [250, 10]|250|    PMC Member|\n",
      "+--------+----------------+----------------+---------------+---+--------------+\n",
      "\n"
     ]
    }
   ],
   "source": [
    "from pyspark.sql.functions import expr\n",
    "\n",
    "person.withColumnRenamed(\"id\", \"personId\").join(sparkStatus, expr(\"array_contains(spark_status, id)\")).show()"
   ]
  },
  {
   "cell_type": "markdown",
   "metadata": {},
   "source": [
    "### Handling duplicate column names\n"
   ]
  },
  {
   "cell_type": "code",
   "execution_count": 20,
   "metadata": {},
   "outputs": [
    {
     "name": "stdout",
     "output_type": "stream",
     "text": [
      "+---+----------------+----------------+---------------+----------------+-------+----------+-----------+\n",
      "| id|            name|graduate_program|   spark_status|graduate_program| degree|department|     school|\n",
      "+---+----------------+----------------+---------------+----------------+-------+----------+-----------+\n",
      "|  0|   Bill Chambers|               0|          [100]|               0|Masters|       SOI|UC Berkeley|\n",
      "|  1|   Matei Zaharia|               1|[500, 250, 100]|               1|    PhD|      EECS|UC Berkeley|\n",
      "|  2|Michael Armbrust|               1|      [250, 10]|               1|    PhD|      EECS|UC Berkeley|\n",
      "+---+----------------+----------------+---------------+----------------+-------+----------+-----------+\n",
      "\n"
     ]
    }
   ],
   "source": [
    "gradProgramDupe = graduateProgram.withColumnRenamed(\"id\", \"graduate_program\")\n",
    "joinExpression = gradProgramDupe['graduate_program'] == person['graduate_program']\n",
    "person.join(gradProgramDupe, joinExpression).show()\n",
    "\n",
    "# that would create two columns with the same name!"
   ]
  },
  {
   "cell_type": "code",
   "execution_count": 21,
   "metadata": {},
   "outputs": [
    {
     "name": "stdout",
     "output_type": "stream",
     "text": [
      "+----------------+---+----------------+---------------+-------+----------+-----------+\n",
      "|graduate_program| id|            name|   spark_status| degree|department|     school|\n",
      "+----------------+---+----------------+---------------+-------+----------+-----------+\n",
      "|               0|  0|   Bill Chambers|          [100]|Masters|       SOI|UC Berkeley|\n",
      "|               1|  1|   Matei Zaharia|[500, 250, 100]|    PhD|      EECS|UC Berkeley|\n",
      "|               1|  2|Michael Armbrust|      [250, 10]|    PhD|      EECS|UC Berkeley|\n",
      "+----------------+---+----------------+---------------+-------+----------+-----------+\n",
      "\n"
     ]
    }
   ],
   "source": [
    "# Approach 1: different join expression\n",
    "person.join(gradProgramDupe, \"graduate_program\").show()"
   ]
  },
  {
   "cell_type": "code",
   "execution_count": 22,
   "metadata": {},
   "outputs": [
    {
     "name": "stdout",
     "output_type": "stream",
     "text": [
      "+---+----------------+---------------+----------------+-------+----------+-----------+\n",
      "| id|            name|   spark_status|graduate_program| degree|department|     school|\n",
      "+---+----------------+---------------+----------------+-------+----------+-----------+\n",
      "|  0|   Bill Chambers|          [100]|               0|Masters|       SOI|UC Berkeley|\n",
      "|  1|   Matei Zaharia|[500, 250, 100]|               1|    PhD|      EECS|UC Berkeley|\n",
      "|  2|Michael Armbrust|      [250, 10]|               1|    PhD|      EECS|UC Berkeley|\n",
      "+---+----------------+---------------+----------------+-------+----------+-----------+\n",
      "\n"
     ]
    }
   ],
   "source": [
    "# Approach 2: Dropping the column after the join\n",
    "person.join(gradProgramDupe, joinExpression).drop(person.graduate_program).show()"
   ]
  },
  {
   "cell_type": "code",
   "execution_count": 23,
   "metadata": {},
   "outputs": [
    {
     "name": "stdout",
     "output_type": "stream",
     "text": [
      "+---+----------------+----------------+---------------+-------+-------+----------+-----------+\n",
      "| id|            name|graduate_program|   spark_status|grad_id| degree|department|     school|\n",
      "+---+----------------+----------------+---------------+-------+-------+----------+-----------+\n",
      "|  0|   Bill Chambers|               0|          [100]|      0|Masters|       SOI|UC Berkeley|\n",
      "|  1|   Matei Zaharia|               1|[500, 250, 100]|      1|    PhD|      EECS|UC Berkeley|\n",
      "|  2|Michael Armbrust|               1|      [250, 10]|      1|    PhD|      EECS|UC Berkeley|\n",
      "+---+----------------+----------------+---------------+-------+-------+----------+-----------+\n",
      "\n"
     ]
    }
   ],
   "source": [
    "# Approach 3: Renaming a column before the join\n",
    "gradProgram3 = graduateProgram.withColumnRenamed(\"id\", \"grad_id\")\n",
    "joinExpression = person.graduate_program == gradProgram3.grad_id\n",
    "person.join(gradProgram3, joinExpression).show()"
   ]
  },
  {
   "cell_type": "code",
   "execution_count": null,
   "metadata": {},
   "outputs": [],
   "source": []
  }
 ],
 "metadata": {
  "kernelspec": {
   "display_name": "Python 3",
   "language": "python",
   "name": "python3"
  },
  "language_info": {
   "codemirror_mode": {
    "name": "ipython",
    "version": 3
   },
   "file_extension": ".py",
   "mimetype": "text/x-python",
   "name": "python",
   "nbconvert_exporter": "python",
   "pygments_lexer": "ipython3",
   "version": "3.6.1"
  }
 },
 "nbformat": 4,
 "nbformat_minor": 2
}
