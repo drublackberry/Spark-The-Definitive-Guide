{
 "cells": [
  {
   "cell_type": "markdown",
   "metadata": {},
   "source": [
    "# Chapter 25 - Preprocessing and Feature Engineering\n",
    "\n",
    "Check the official documentation site for `pyspark.ml.feature` for the most recent version of Spark (or the one that you have installed).\n",
    "\n",
    "http://spark.apache.org/docs/2.4.0/api/python/pyspark.ml.html#module-pyspark.ml.feature\n",
    "\n",
    "## Loading the Input Datasets"
   ]
  },
  {
   "cell_type": "code",
   "execution_count": 1,
   "metadata": {},
   "outputs": [],
   "source": [
    "from pyspark.sql import SparkSession\n",
    "\n",
    "spark = SparkSession.builder.master(\"local\").appName(\"chapter25\").getOrCreate()"
   ]
  },
  {
   "cell_type": "code",
   "execution_count": 2,
   "metadata": {},
   "outputs": [
    {
     "name": "stdout",
     "output_type": "stream",
     "text": [
      "+---------+---------+--------------------+--------+-------------------+---------+----------+--------------+\n",
      "|InvoiceNo|StockCode|         Description|Quantity|        InvoiceDate|UnitPrice|CustomerID|       Country|\n",
      "+---------+---------+--------------------+--------+-------------------+---------+----------+--------------+\n",
      "|   580538|    23084|  RABBIT NIGHT LIGHT|      48|2011-12-05 08:38:00|     1.79|   14075.0|United Kingdom|\n",
      "|   580538|    23077| DOUGHNUT LIP GLOSS |      20|2011-12-05 08:38:00|     1.25|   14075.0|United Kingdom|\n",
      "|   580538|    22906|12 MESSAGE CARDS ...|      24|2011-12-05 08:38:00|     1.65|   14075.0|United Kingdom|\n",
      "|   580538|    21914|BLUE HARMONICA IN...|      24|2011-12-05 08:38:00|     1.25|   14075.0|United Kingdom|\n",
      "|   580538|    22467|   GUMBALL COAT RACK|       6|2011-12-05 08:38:00|     2.55|   14075.0|United Kingdom|\n",
      "|   580538|    21544|SKULLS  WATER TRA...|      48|2011-12-05 08:38:00|     0.85|   14075.0|United Kingdom|\n",
      "|   580538|    23126|FELTCRAFT GIRL AM...|       8|2011-12-05 08:38:00|     4.95|   14075.0|United Kingdom|\n",
      "|   580538|    21833|CAMOUFLAGE LED TORCH|      24|2011-12-05 08:38:00|     1.69|   14075.0|United Kingdom|\n",
      "|   580539|    21479|WHITE SKULL HOT W...|       4|2011-12-05 08:39:00|     4.25|   18180.0|United Kingdom|\n",
      "|   580539|   84030E|ENGLISH ROSE HOT ...|       4|2011-12-05 08:39:00|     4.25|   18180.0|United Kingdom|\n",
      "|   580539|    23355|HOT WATER BOTTLE ...|       4|2011-12-05 08:39:00|     4.95|   18180.0|United Kingdom|\n",
      "|   580539|    22111|SCOTTIE DOG HOT W...|       3|2011-12-05 08:39:00|     4.95|   18180.0|United Kingdom|\n",
      "|   580539|    21115|ROSE CARAVAN DOOR...|       8|2011-12-05 08:39:00|     1.95|   18180.0|United Kingdom|\n",
      "|   580539|    21411|GINGHAM HEART  DO...|       8|2011-12-05 08:39:00|     1.95|   18180.0|United Kingdom|\n",
      "|   580539|    23235|STORAGE TIN VINTA...|      12|2011-12-05 08:39:00|     1.25|   18180.0|United Kingdom|\n",
      "|   580539|    23239|SET OF 4 KNICK KN...|       6|2011-12-05 08:39:00|     1.65|   18180.0|United Kingdom|\n",
      "|   580539|    22197|      POPCORN HOLDER|      36|2011-12-05 08:39:00|     0.85|   18180.0|United Kingdom|\n",
      "|   580539|    22693|GROW A FLYTRAP OR...|      24|2011-12-05 08:39:00|     1.25|   18180.0|United Kingdom|\n",
      "|   580539|    22372|AIRLINE BAG VINTA...|       4|2011-12-05 08:39:00|     4.25|   18180.0|United Kingdom|\n",
      "|   580539|    22375|AIRLINE BAG VINTA...|       4|2011-12-05 08:39:00|     4.25|   18180.0|United Kingdom|\n",
      "+---------+---------+--------------------+--------+-------------------+---------+----------+--------------+\n",
      "only showing top 20 rows\n",
      "\n"
     ]
    }
   ],
   "source": [
    "sales = spark.read.format(\"csv\").option(\"header\", \"true\")\\\n",
    "                                .option(\"inferSchema\", \"true\")\\\n",
    "                                .option(\"path\", \"../data/retail-data/by-day/*.csv\")\\\n",
    "                                .load().coalesce(5).where(\"Description IS NOT NULL\")\n",
    "sales.cache()  # make it persistent, since we will be using it later\n",
    "sales.show()"
   ]
  },
  {
   "cell_type": "code",
   "execution_count": 3,
   "metadata": {},
   "outputs": [
    {
     "name": "stdout",
     "output_type": "stream",
     "text": [
      "+----+----+----+\n",
      "|int1|int2|int3|\n",
      "+----+----+----+\n",
      "|   1|   2|   3|\n",
      "|   4|   5|   6|\n",
      "|   7|   8|   9|\n",
      "+----+----+----+\n",
      "\n"
     ]
    }
   ],
   "source": [
    "fakeIntDF = spark.read.parquet(\"../data/simple-ml-integers\")\n",
    "fakeIntDF.show()"
   ]
  },
  {
   "cell_type": "code",
   "execution_count": 4,
   "metadata": {},
   "outputs": [
    {
     "name": "stdout",
     "output_type": "stream",
     "text": [
      "+-----+----+------+------------------+\n",
      "|color| lab|value1|            value2|\n",
      "+-----+----+------+------------------+\n",
      "|green|good|     1|14.386294994851129|\n",
      "| blue| bad|     8|14.386294994851129|\n",
      "| blue| bad|    12|14.386294994851129|\n",
      "|green|good|    15| 38.97187133755819|\n",
      "|green|good|    12|14.386294994851129|\n",
      "|green| bad|    16|14.386294994851129|\n",
      "|  red|good|    35|14.386294994851129|\n",
      "|  red| bad|     1| 38.97187133755819|\n",
      "|  red| bad|     2|14.386294994851129|\n",
      "|  red| bad|    16|14.386294994851129|\n",
      "|  red|good|    45| 38.97187133755819|\n",
      "|green|good|     1|14.386294994851129|\n",
      "| blue| bad|     8|14.386294994851129|\n",
      "| blue| bad|    12|14.386294994851129|\n",
      "|green|good|    15| 38.97187133755819|\n",
      "|green|good|    12|14.386294994851129|\n",
      "|green| bad|    16|14.386294994851129|\n",
      "|  red|good|    35|14.386294994851129|\n",
      "|  red| bad|     1| 38.97187133755819|\n",
      "|  red| bad|     2|14.386294994851129|\n",
      "+-----+----+------+------------------+\n",
      "only showing top 20 rows\n",
      "\n"
     ]
    }
   ],
   "source": [
    "simpleDF = spark.read.json(\"../data/simple-ml\")\n",
    "simpleDF.show()"
   ]
  },
  {
   "cell_type": "code",
   "execution_count": 5,
   "metadata": {},
   "outputs": [
    {
     "name": "stdout",
     "output_type": "stream",
     "text": [
      "+---+--------------+\n",
      "| id|      features|\n",
      "+---+--------------+\n",
      "|  0|[1.0,0.1,-1.0]|\n",
      "|  1| [2.0,1.1,1.0]|\n",
      "|  0|[1.0,0.1,-1.0]|\n",
      "|  1| [2.0,1.1,1.0]|\n",
      "|  1|[3.0,10.1,3.0]|\n",
      "+---+--------------+\n",
      "\n"
     ]
    }
   ],
   "source": [
    "scaleDF = spark.read.parquet(\"../data/simple-ml-scaling\")\n",
    "scaleDF.show()"
   ]
  },
  {
   "cell_type": "markdown",
   "metadata": {},
   "source": [
    "### Transformers and Estimators\n",
    "\n",
    "**Transformers** do not depend on the input data, but they work for any dataset. An example would be a tokenizer. Transformers have a `transform()` method.\n",
    "\n",
    "**Estimators** can be used for preprocessing and depend on the input data, thus they have a `fit()` method. After the method `tranform()` would be called. An example is a Standard Scaler."
   ]
  },
  {
   "cell_type": "code",
   "execution_count": 6,
   "metadata": {},
   "outputs": [
    {
     "name": "stdout",
     "output_type": "stream",
     "text": [
      "+--------------------+--------------------------------------+\n",
      "|         Description|Tokenizer_4c03a9c1298975c4937e__output|\n",
      "+--------------------+--------------------------------------+\n",
      "|  RABBIT NIGHT LIGHT|                  [rabbit, night, l...|\n",
      "| DOUGHNUT LIP GLOSS |                  [doughnut, lip, g...|\n",
      "|12 MESSAGE CARDS ...|                  [12, message, car...|\n",
      "|BLUE HARMONICA IN...|                  [blue, harmonica,...|\n",
      "|   GUMBALL COAT RACK|                  [gumball, coat, r...|\n",
      "|SKULLS  WATER TRA...|                  [skulls, , water,...|\n",
      "|FELTCRAFT GIRL AM...|                  [feltcraft, girl,...|\n",
      "|CAMOUFLAGE LED TORCH|                  [camouflage, led,...|\n",
      "|WHITE SKULL HOT W...|                  [white, skull, ho...|\n",
      "|ENGLISH ROSE HOT ...|                  [english, rose, h...|\n",
      "|HOT WATER BOTTLE ...|                  [hot, water, bott...|\n",
      "|SCOTTIE DOG HOT W...|                  [scottie, dog, ho...|\n",
      "|ROSE CARAVAN DOOR...|                  [rose, caravan, d...|\n",
      "|GINGHAM HEART  DO...|                  [gingham, heart, ...|\n",
      "|STORAGE TIN VINTA...|                  [storage, tin, vi...|\n",
      "|SET OF 4 KNICK KN...|                  [set, of, 4, knic...|\n",
      "|      POPCORN HOLDER|                     [popcorn, holder]|\n",
      "|GROW A FLYTRAP OR...|                  [grow, a, flytrap...|\n",
      "|AIRLINE BAG VINTA...|                  [airline, bag, vi...|\n",
      "|AIRLINE BAG VINTA...|                  [airline, bag, vi...|\n",
      "+--------------------+--------------------------------------+\n",
      "only showing top 20 rows\n",
      "\n"
     ]
    }
   ],
   "source": [
    "from pyspark.ml.feature import Tokenizer\n",
    "\n",
    "tkn = Tokenizer(inputCol=\"Description\")\n",
    "tkn.transform(sales.select(\"Description\")).show()"
   ]
  },
  {
   "cell_type": "code",
   "execution_count": 7,
   "metadata": {},
   "outputs": [
    {
     "name": "stdout",
     "output_type": "stream",
     "text": [
      "+---+--------------+-------------------------------------------+\n",
      "| id|      features|StandardScaler_466c92924d19a3a9964e__output|\n",
      "+---+--------------+-------------------------------------------+\n",
      "|  0|[1.0,0.1,-1.0]|                       [1.19522860933439...|\n",
      "|  1| [2.0,1.1,1.0]|                       [2.39045721866878...|\n",
      "|  0|[1.0,0.1,-1.0]|                       [1.19522860933439...|\n",
      "|  1| [2.0,1.1,1.0]|                       [2.39045721866878...|\n",
      "|  1|[3.0,10.1,3.0]|                       [3.58568582800318...|\n",
      "+---+--------------+-------------------------------------------+\n",
      "\n"
     ]
    }
   ],
   "source": [
    "from pyspark.ml.feature import StandardScaler\n",
    "\n",
    "ss = StandardScaler(inputCol=\"features\")\n",
    "ss.fit(scaleDF).transform(scaleDF).show()"
   ]
  },
  {
   "cell_type": "markdown",
   "metadata": {},
   "source": [
    "## High-level transformers\n",
    "\n",
    "As a general principle, you should aim to:\n",
    "\n",
    "* Always use high-level transformers, avoid re-implemeting since the implementation has been optimized for Spark.\n",
    "* Use the highest level transformer available.\n",
    "\n",
    "### RFormula\n",
    "\n",
    "This has been already demoed in [Chapter 24](https://github.com/drublackberry/Spark-The-Definitive-Guide/blob/master/notebook/Chapter24.ipynb) but it is reshown here for consistency. To understand it better some help can be found [here](https://spark.apache.org/docs/latest/ml-features.html#rformula)"
   ]
  },
  {
   "cell_type": "code",
   "execution_count": 8,
   "metadata": {},
   "outputs": [
    {
     "name": "stdout",
     "output_type": "stream",
     "text": [
      "+-----+----+------+------------------+--------------------+-----+\n",
      "|color| lab|value1|            value2|            features|label|\n",
      "+-----+----+------+------------------+--------------------+-----+\n",
      "|green|good|     1|14.386294994851129|(10,[1,2,3,5,8],[...|  1.0|\n",
      "| blue| bad|     8|14.386294994851129|(10,[2,3,6,9],[8....|  0.0|\n",
      "| blue| bad|    12|14.386294994851129|(10,[2,3,6,9],[12...|  0.0|\n",
      "|green|good|    15| 38.97187133755819|(10,[1,2,3,5,8],[...|  1.0|\n",
      "|green|good|    12|14.386294994851129|(10,[1,2,3,5,8],[...|  1.0|\n",
      "|green| bad|    16|14.386294994851129|(10,[1,2,3,5,8],[...|  0.0|\n",
      "|  red|good|    35|14.386294994851129|(10,[0,2,3,4,7],[...|  1.0|\n",
      "|  red| bad|     1| 38.97187133755819|(10,[0,2,3,4,7],[...|  0.0|\n",
      "|  red| bad|     2|14.386294994851129|(10,[0,2,3,4,7],[...|  0.0|\n",
      "|  red| bad|    16|14.386294994851129|(10,[0,2,3,4,7],[...|  0.0|\n",
      "|  red|good|    45| 38.97187133755819|(10,[0,2,3,4,7],[...|  1.0|\n",
      "|green|good|     1|14.386294994851129|(10,[1,2,3,5,8],[...|  1.0|\n",
      "| blue| bad|     8|14.386294994851129|(10,[2,3,6,9],[8....|  0.0|\n",
      "| blue| bad|    12|14.386294994851129|(10,[2,3,6,9],[12...|  0.0|\n",
      "|green|good|    15| 38.97187133755819|(10,[1,2,3,5,8],[...|  1.0|\n",
      "|green|good|    12|14.386294994851129|(10,[1,2,3,5,8],[...|  1.0|\n",
      "|green| bad|    16|14.386294994851129|(10,[1,2,3,5,8],[...|  0.0|\n",
      "|  red|good|    35|14.386294994851129|(10,[0,2,3,4,7],[...|  1.0|\n",
      "|  red| bad|     1| 38.97187133755819|(10,[0,2,3,4,7],[...|  0.0|\n",
      "|  red| bad|     2|14.386294994851129|(10,[0,2,3,4,7],[...|  0.0|\n",
      "+-----+----+------+------------------+--------------------+-----+\n",
      "only showing top 20 rows\n",
      "\n"
     ]
    },
    {
     "data": {
      "text/plain": [
       "[Row(color='green', lab='good', value1=1, value2=14.386294994851129, features=SparseVector(10, {1: 1.0, 2: 1.0, 3: 14.3863, 5: 1.0, 8: 14.3863}), label=1.0)]"
      ]
     },
     "execution_count": 8,
     "metadata": {},
     "output_type": "execute_result"
    }
   ],
   "source": [
    "from pyspark.ml.feature import RFormula\n",
    "\n",
    "supervised = RFormula(formula=\"lab ~ . + color:value1 + color:value2\")\n",
    "foo = supervised.fit(simpleDF).transform(simpleDF)\n",
    "foo.show()\n",
    "foo.take(1)"
   ]
  },
  {
   "cell_type": "markdown",
   "metadata": {},
   "source": [
    "### SQL transformer\n",
    "Just remember to use the keyword `__THIS__` to refer to the table name."
   ]
  },
  {
   "cell_type": "code",
   "execution_count": 9,
   "metadata": {},
   "outputs": [
    {
     "name": "stdout",
     "output_type": "stream",
     "text": [
      "+-------------+--------+----------+\n",
      "|sum(Quantity)|count(1)|CustomerID|\n",
      "+-------------+--------+----------+\n",
      "|          119|      62|   14452.0|\n",
      "|          440|     143|   16916.0|\n",
      "|          630|      72|   17633.0|\n",
      "|           34|       6|   14768.0|\n",
      "|         1542|      30|   13094.0|\n",
      "|          854|     117|   17884.0|\n",
      "|           97|      12|   16596.0|\n",
      "|          290|      98|   13607.0|\n",
      "|          541|      27|   14285.0|\n",
      "|          244|      31|   16561.0|\n",
      "|          491|     152|   13956.0|\n",
      "|          204|      76|   13533.0|\n",
      "|          493|      64|   16629.0|\n",
      "|          159|      38|   17267.0|\n",
      "|         1140|      30|   13918.0|\n",
      "|           55|      28|   18114.0|\n",
      "|           88|       7|   14473.0|\n",
      "|          150|      16|   14024.0|\n",
      "|          206|      23|   12493.0|\n",
      "|          138|      18|   15776.0|\n",
      "+-------------+--------+----------+\n",
      "only showing top 20 rows\n",
      "\n"
     ]
    }
   ],
   "source": [
    "from pyspark.ml.feature import SQLTransformer\n",
    "\n",
    "basicTransform = SQLTransformer()\\\n",
    "                .setStatement(\"\"\"SELECT sum(Quantity), count(*), CustomerID FROM __THIS__ GROUP BY CustomerID\"\"\")\n",
    "basicTransform.transform(sales).show()"
   ]
  },
  {
   "cell_type": "markdown",
   "metadata": {},
   "source": [
    "### VectorAssembler\n",
    "It assembles the values into a `Vector` of features that can be fed to an Estimator."
   ]
  },
  {
   "cell_type": "code",
   "execution_count": 10,
   "metadata": {},
   "outputs": [
    {
     "name": "stdout",
     "output_type": "stream",
     "text": [
      "+----+----+----+--------------------------------------------+\n",
      "|int1|int2|int3|VectorAssembler_47b4a41a1854e456259e__output|\n",
      "+----+----+----+--------------------------------------------+\n",
      "|   1|   2|   3|                               [1.0,2.0,3.0]|\n",
      "|   4|   5|   6|                               [4.0,5.0,6.0]|\n",
      "|   7|   8|   9|                               [7.0,8.0,9.0]|\n",
      "+----+----+----+--------------------------------------------+\n",
      "\n"
     ]
    }
   ],
   "source": [
    "from pyspark.ml.feature import VectorAssembler\n",
    "\n",
    "va = VectorAssembler(inputCols=[\"int1\", \"int2\", \"int3\"])\n",
    "va.transform(fakeIntDF).show()"
   ]
  },
  {
   "cell_type": "markdown",
   "metadata": {},
   "source": [
    "## Working with Continuous Features\n",
    "\n",
    "### Bucketing\n",
    "\n",
    "#### Bucketizer\n",
    "Splits according to defined buckets."
   ]
  },
  {
   "cell_type": "code",
   "execution_count": 11,
   "metadata": {},
   "outputs": [
    {
     "name": "stdout",
     "output_type": "stream",
     "text": [
      "+----+\n",
      "|  id|\n",
      "+----+\n",
      "| 0.0|\n",
      "| 1.0|\n",
      "| 2.0|\n",
      "| 3.0|\n",
      "| 4.0|\n",
      "| 5.0|\n",
      "| 6.0|\n",
      "| 7.0|\n",
      "| 8.0|\n",
      "| 9.0|\n",
      "|10.0|\n",
      "|11.0|\n",
      "|12.0|\n",
      "|13.0|\n",
      "|14.0|\n",
      "|15.0|\n",
      "|16.0|\n",
      "|17.0|\n",
      "|18.0|\n",
      "|19.0|\n",
      "+----+\n",
      "\n"
     ]
    }
   ],
   "source": [
    "contDF = spark.range(20).selectExpr(\"cast(id as double)\")\n",
    "contDF.show()"
   ]
  },
  {
   "cell_type": "code",
   "execution_count": 12,
   "metadata": {},
   "outputs": [
    {
     "name": "stdout",
     "output_type": "stream",
     "text": [
      "+----+---------------------------------------+\n",
      "|  id|Bucketizer_4d76b5eea808998251f6__output|\n",
      "+----+---------------------------------------+\n",
      "| 0.0|                                    0.0|\n",
      "| 1.0|                                    0.0|\n",
      "| 2.0|                                    0.0|\n",
      "| 3.0|                                    0.0|\n",
      "| 4.0|                                    0.0|\n",
      "| 5.0|                                    1.0|\n",
      "| 6.0|                                    1.0|\n",
      "| 7.0|                                    1.0|\n",
      "| 8.0|                                    1.0|\n",
      "| 9.0|                                    1.0|\n",
      "|10.0|                                    2.0|\n",
      "|11.0|                                    2.0|\n",
      "|12.0|                                    2.0|\n",
      "|13.0|                                    2.0|\n",
      "|14.0|                                    2.0|\n",
      "|15.0|                                    2.0|\n",
      "|16.0|                                    2.0|\n",
      "|17.0|                                    2.0|\n",
      "|18.0|                                    2.0|\n",
      "|19.0|                                    2.0|\n",
      "+----+---------------------------------------+\n",
      "\n"
     ]
    }
   ],
   "source": [
    "from pyspark.ml.feature import Bucketizer\n",
    "\n",
    "bucket_borders = [-1., 5., 10., 250., 600.]\n",
    "bucketer = Bucketizer().setSplits(bucket_borders).setInputCol(\"id\")\n",
    "bucketer.transform(contDF).show()"
   ]
  },
  {
   "cell_type": "markdown",
   "metadata": {},
   "source": [
    "#### QuantileDiscretizer\n",
    "\n",
    "Splits in buckets based on quantiles, the input given is the number of quantiles"
   ]
  },
  {
   "cell_type": "code",
   "execution_count": 13,
   "metadata": {},
   "outputs": [
    {
     "name": "stdout",
     "output_type": "stream",
     "text": [
      "+----+------------------------------------------------+\n",
      "|  id|QuantileDiscretizer_4428a80c01321694f258__output|\n",
      "+----+------------------------------------------------+\n",
      "| 0.0|                                             0.0|\n",
      "| 1.0|                                             0.0|\n",
      "| 2.0|                                             0.0|\n",
      "| 3.0|                                             1.0|\n",
      "| 4.0|                                             1.0|\n",
      "| 5.0|                                             1.0|\n",
      "| 6.0|                                             1.0|\n",
      "| 7.0|                                             2.0|\n",
      "| 8.0|                                             2.0|\n",
      "| 9.0|                                             2.0|\n",
      "|10.0|                                             2.0|\n",
      "|11.0|                                             2.0|\n",
      "|12.0|                                             3.0|\n",
      "|13.0|                                             3.0|\n",
      "|14.0|                                             3.0|\n",
      "|15.0|                                             4.0|\n",
      "|16.0|                                             4.0|\n",
      "|17.0|                                             4.0|\n",
      "|18.0|                                             4.0|\n",
      "|19.0|                                             4.0|\n",
      "+----+------------------------------------------------+\n",
      "\n"
     ]
    }
   ],
   "source": [
    "# bucketing based on Quantiles\n",
    "from pyspark.ml.feature import QuantileDiscretizer\n",
    "\n",
    "bucketer = QuantileDiscretizer(numBuckets=5, inputCol=\"id\")\n",
    "fitted_bucketer = bucketer.fit(contDF)\n",
    "fitted_bucketer.transform(contDF).show()"
   ]
  },
  {
   "cell_type": "markdown",
   "metadata": {},
   "source": [
    "#### Exercise: UnbalancedQuantileDiscretizer\n",
    "\n",
    "It is a quantile discretizer whose inputs are a quantile array"
   ]
  },
  {
   "cell_type": "code",
   "execution_count": 14,
   "metadata": {},
   "outputs": [
    {
     "name": "stdout",
     "output_type": "stream",
     "text": [
      "+----+---------------------------------------+\n",
      "|  id|Bucketizer_416c80ae20dc2ea29e7c__output|\n",
      "+----+---------------------------------------+\n",
      "| 0.0|                                    0.0|\n",
      "| 1.0|                                    0.0|\n",
      "| 2.0|                                    0.0|\n",
      "| 3.0|                                    0.0|\n",
      "| 4.0|                                    0.0|\n",
      "| 5.0|                                    0.0|\n",
      "| 6.0|                                    0.0|\n",
      "| 7.0|                                    0.0|\n",
      "| 8.0|                                    0.0|\n",
      "| 9.0|                                    1.0|\n",
      "|10.0|                                    1.0|\n",
      "|11.0|                                    1.0|\n",
      "|12.0|                                    1.0|\n",
      "|13.0|                                    1.0|\n",
      "|14.0|                                    2.0|\n",
      "|15.0|                                    2.0|\n",
      "|16.0|                                    2.0|\n",
      "|17.0|                                    2.0|\n",
      "|18.0|                                    2.0|\n",
      "|19.0|                                    3.0|\n",
      "+----+---------------------------------------+\n",
      "\n"
     ]
    }
   ],
   "source": [
    "in_quantiles = [0.5, 0.75, 0.99]\n",
    "\n",
    "class UnbalancedQuantileDiscretizer:\n",
    "    \n",
    "    def __init__(self, quantiles):\n",
    "        self.quantiles = quantiles\n",
    "        self.quantile_values = []\n",
    "        self.inputCol = ''\n",
    "    \n",
    "    def fit(self, df_in, inputCol, relativeError=1e-2):\n",
    "        quantile_values = df_in.approxQuantile(inputCol, self.quantiles, relativeError)\n",
    "        self.quantile_values = [-float('inf')] + quantile_values + [float('inf')]\n",
    "        self.inputCol = inputCol\n",
    "        \n",
    "    def transform(self, df_in):\n",
    "        bucketer = Bucketizer().setSplits(self.quantile_values).setInputCol(self.inputCol)\n",
    "        return bucketer.transform(df_in)\n",
    "        \n",
    "bucketer = UnbalancedQuantileDiscretizer(in_quantiles)\n",
    "bucketer.fit(contDF, \"id\")\n",
    "bucketer.transform(contDF).show()"
   ]
  },
  {
   "cell_type": "code",
   "execution_count": 15,
   "metadata": {},
   "outputs": [
    {
     "name": "stdout",
     "output_type": "stream",
     "text": [
      "+-----+----------+---------------------------------------+\n",
      "|Total|CustomerID|Bucketizer_4834816aa3128350a6b8__output|\n",
      "+-----+----------+---------------------------------------+\n",
      "|  119|   14452.0|                                    0.0|\n",
      "|  440|   16916.0|                                    2.0|\n",
      "|  630|   17633.0|                                    2.0|\n",
      "|   34|   14768.0|                                    0.0|\n",
      "| 1542|   13094.0|                                    3.0|\n",
      "|  854|   17884.0|                                    2.0|\n",
      "|   97|   16596.0|                                    0.0|\n",
      "|  290|   13607.0|                                    1.0|\n",
      "|  541|   14285.0|                                    2.0|\n",
      "|  244|   16561.0|                                    1.0|\n",
      "|  491|   13956.0|                                    2.0|\n",
      "|  204|   13533.0|                                    1.0|\n",
      "|  493|   16629.0|                                    2.0|\n",
      "|  159|   17267.0|                                    0.0|\n",
      "| 1140|   13918.0|                                    3.0|\n",
      "|   55|   18114.0|                                    0.0|\n",
      "|   88|   14473.0|                                    0.0|\n",
      "|  150|   14024.0|                                    0.0|\n",
      "|  206|   12493.0|                                    1.0|\n",
      "|  138|   15776.0|                                    0.0|\n",
      "+-----+----------+---------------------------------------+\n",
      "only showing top 20 rows\n",
      "\n"
     ]
    }
   ],
   "source": [
    "basicTransform = SQLTransformer()\\\n",
    "                .setStatement(\"\"\"SELECT sum(Quantity) AS Total, CustomerID FROM __THIS__ GROUP BY CustomerID\"\"\")\n",
    "    \n",
    "in_quantiles = [0.25, 0.50, 0.75, 0.95, 0.99]\n",
    "total_df = basicTransform.transform(sales)\n",
    "\n",
    "bucketer = UnbalancedQuantileDiscretizer(in_quantiles)\n",
    "bucketer.fit(total_df, \"Total\")\n",
    "total_df = bucketer.transform(total_df)\n",
    "total_df.show()"
   ]
  },
  {
   "cell_type": "code",
   "execution_count": 16,
   "metadata": {},
   "outputs": [
    {
     "data": {
      "image/png": "[encoded data removed]",
      "text/plain": [
       "<matplotlib.figure.Figure at 0x110166320>"
      ]
     },
     "metadata": {},
     "output_type": "display_data"
    },
    {
     "name": "stdout",
     "output_type": "stream",
     "text": [
      "[0.25, 0.5, 0.75, 0.95, 0.99]\n"
     ]
    }
   ],
   "source": [
    "import matplotlib.pyplot as plt\n",
    "\n",
    "pd_df = total_df.toPandas().sort_values(by='Total').reset_index()\n",
    "buck_col = [x for x in pd_df.columns if \"Bucketizer\" in x][0]\n",
    "for b in pd_df[buck_col].unique():\n",
    "    foo = pd_df.loc[pd_df[buck_col]==b, 'Total'].sort_values()\n",
    "    plt.plot(foo.index, foo.values)\n",
    "plt.show()\n",
    "print(in_quantiles)"
   ]
  },
  {
   "cell_type": "markdown",
   "metadata": {},
   "source": [
    "## Scaling and normalization\n",
    "\n",
    "### Standard Scaler\n"
   ]
  },
  {
   "cell_type": "code",
   "execution_count": 17,
   "metadata": {},
   "outputs": [
    {
     "name": "stdout",
     "output_type": "stream",
     "text": [
      "+---+--------------+-------------------------------------------+\n",
      "| id|      features|StandardScaler_4f368cd7bde52dbdff2b__output|\n",
      "+---+--------------+-------------------------------------------+\n",
      "|  0|[1.0,0.1,-1.0]|                       [1.19522860933439...|\n",
      "|  1| [2.0,1.1,1.0]|                       [2.39045721866878...|\n",
      "|  0|[1.0,0.1,-1.0]|                       [1.19522860933439...|\n",
      "|  1| [2.0,1.1,1.0]|                       [2.39045721866878...|\n",
      "|  1|[3.0,10.1,3.0]|                       [3.58568582800318...|\n",
      "+---+--------------+-------------------------------------------+\n",
      "\n"
     ]
    },
    {
     "data": {
      "text/plain": [
       "[Row(id=0, features=DenseVector([1.0, 0.1, -1.0]), StandardScaler_4f368cd7bde52dbdff2b__output=DenseVector([1.1952, 0.0234, -0.5976]))]"
      ]
     },
     "execution_count": 17,
     "metadata": {},
     "output_type": "execute_result"
    }
   ],
   "source": [
    "from pyspark.ml.feature import StandardScaler\n",
    "\n",
    "std_scaler = StandardScaler(inputCol=\"features\")\n",
    "foo = std_scaler.fit(scaleDF).transform(scaleDF)\n",
    "foo.show()\n",
    "foo.take(1)\n"
   ]
  },
  {
   "cell_type": "markdown",
   "metadata": {},
   "source": [
    "### MinMax Scaler\n",
    "\n",
    "Linearly interpolates between the minimum and maximum values."
   ]
  },
  {
   "cell_type": "code",
   "execution_count": 18,
   "metadata": {},
   "outputs": [
    {
     "name": "stdout",
     "output_type": "stream",
     "text": [
      "+---+--------------+-----------------------------------------+\n",
      "| id|      features|MinMaxScaler_42d9b56298a1c71ff511__output|\n",
      "+---+--------------+-----------------------------------------+\n",
      "|  0|[1.0,0.1,-1.0]|                            [5.0,5.0,5.0]|\n",
      "|  1| [2.0,1.1,1.0]|                            [7.5,5.5,7.5]|\n",
      "|  0|[1.0,0.1,-1.0]|                            [5.0,5.0,5.0]|\n",
      "|  1| [2.0,1.1,1.0]|                            [7.5,5.5,7.5]|\n",
      "|  1|[3.0,10.1,3.0]|                         [10.0,10.0,10.0]|\n",
      "+---+--------------+-----------------------------------------+\n",
      "\n"
     ]
    },
    {
     "data": {
      "text/plain": [
       "[Row(id=0, features=DenseVector([1.0, 0.1, -1.0]), MinMaxScaler_42d9b56298a1c71ff511__output=DenseVector([5.0, 5.0, 5.0]))]"
      ]
     },
     "execution_count": 18,
     "metadata": {},
     "output_type": "execute_result"
    }
   ],
   "source": [
    "from pyspark.ml.feature import MinMaxScaler\n",
    "\n",
    "min_max = MinMaxScaler(min=5, max=10, inputCol=\"features\")\n",
    "fitted_min_max = min_max.fit(scaleDF)\n",
    "foo = fitted_min_max.transform(scaleDF)\n",
    "foo.show()\n",
    "foo.take(1)"
   ]
  },
  {
   "cell_type": "markdown",
   "metadata": {},
   "source": [
    "### MaxAbsScaler\n",
    "Divides by the maximum value"
   ]
  },
  {
   "cell_type": "code",
   "execution_count": 19,
   "metadata": {},
   "outputs": [
    {
     "name": "stdout",
     "output_type": "stream",
     "text": [
      "+---+--------------+-----------------------------------------+\n",
      "| id|      features|MaxAbsScaler_4e6589ee2c044cea830e__output|\n",
      "+---+--------------+-----------------------------------------+\n",
      "|  0|[1.0,0.1,-1.0]|                     [0.33333333333333...|\n",
      "|  1| [2.0,1.1,1.0]|                     [0.66666666666666...|\n",
      "|  0|[1.0,0.1,-1.0]|                     [0.33333333333333...|\n",
      "|  1| [2.0,1.1,1.0]|                     [0.66666666666666...|\n",
      "|  1|[3.0,10.1,3.0]|                            [1.0,1.0,1.0]|\n",
      "+---+--------------+-----------------------------------------+\n",
      "\n"
     ]
    },
    {
     "data": {
      "text/plain": [
       "[Row(id=0, features=DenseVector([1.0, 0.1, -1.0]), MaxAbsScaler_4e6589ee2c044cea830e__output=DenseVector([0.3333, 0.0099, -0.3333]))]"
      ]
     },
     "execution_count": 19,
     "metadata": {},
     "output_type": "execute_result"
    }
   ],
   "source": [
    "from pyspark.ml.feature import MaxAbsScaler\n",
    "\n",
    "max_abs = MaxAbsScaler(inputCol=\"features\")\n",
    "fitted_max_abs = max_abs.fit(scaleDF)\n",
    "foo = fitted_max_abs.transform(scaleDF)\n",
    "foo.show()\n",
    "foo.take(1)"
   ]
  },
  {
   "cell_type": "markdown",
   "metadata": {},
   "source": [
    "### Elementwise Product\n",
    "\n",
    "All the input vectors (e.g. features) must have the same length as the scale up vectors."
   ]
  },
  {
   "cell_type": "code",
   "execution_count": 20,
   "metadata": {},
   "outputs": [
    {
     "name": "stdout",
     "output_type": "stream",
     "text": [
      "+---+--------------+-----------------------------------------------+\n",
      "| id|      features|ElementwiseProduct_48079f5e8841b56b979b__output|\n",
      "+---+--------------+-----------------------------------------------+\n",
      "|  0|[1.0,0.1,-1.0]|                               [10.0,1.5,-20.0]|\n",
      "|  1| [2.0,1.1,1.0]|                               [20.0,16.5,20.0]|\n",
      "|  0|[1.0,0.1,-1.0]|                               [10.0,1.5,-20.0]|\n",
      "|  1| [2.0,1.1,1.0]|                               [20.0,16.5,20.0]|\n",
      "|  1|[3.0,10.1,3.0]|                              [30.0,151.5,60.0]|\n",
      "+---+--------------+-----------------------------------------------+\n",
      "\n"
     ]
    },
    {
     "data": {
      "text/plain": [
       "[Row(id=0, features=DenseVector([1.0, 0.1, -1.0]), ElementwiseProduct_48079f5e8841b56b979b__output=DenseVector([10.0, 1.5, -20.0]))]"
      ]
     },
     "execution_count": 20,
     "metadata": {},
     "output_type": "execute_result"
    }
   ],
   "source": [
    "from pyspark.ml.feature import ElementwiseProduct\n",
    "from pyspark.ml.linalg import Vectors\n",
    "\n",
    "scale_up_vec = Vectors.dense(10., 15., 20.)\n",
    "scaling_up = ElementwiseProduct(scalingVec=scale_up_vec, inputCol=\"features\")\n",
    "foo = scaling_up.transform(scaleDF)\n",
    "foo.show()\n",
    "foo.take(1)"
   ]
  },
  {
   "cell_type": "markdown",
   "metadata": {},
   "source": [
    "### Normalizer\n",
    "\n",
    "The parameter `p` drives this normalizer, being p=2 the euclidean norm and p=1 the manhattan norm"
   ]
  },
  {
   "cell_type": "code",
   "execution_count": 21,
   "metadata": {},
   "outputs": [
    {
     "name": "stdout",
     "output_type": "stream",
     "text": [
      "+---+--------------+---------------------------------------+\n",
      "| id|      features|Normalizer_4fbb8456ed864621e6e4__output|\n",
      "+---+--------------+---------------------------------------+\n",
      "|  0|[1.0,0.1,-1.0]|                   [0.47619047619047...|\n",
      "|  1| [2.0,1.1,1.0]|                   [0.48780487804878...|\n",
      "|  0|[1.0,0.1,-1.0]|                   [0.47619047619047...|\n",
      "|  1| [2.0,1.1,1.0]|                   [0.48780487804878...|\n",
      "|  1|[3.0,10.1,3.0]|                   [0.18633540372670...|\n",
      "+---+--------------+---------------------------------------+\n",
      "\n"
     ]
    },
    {
     "data": {
      "text/plain": [
       "[Row(id=0, features=DenseVector([1.0, 0.1, -1.0]), Normalizer_4fbb8456ed864621e6e4__output=DenseVector([0.4762, 0.0476, -0.4762]))]"
      ]
     },
     "execution_count": 21,
     "metadata": {},
     "output_type": "execute_result"
    }
   ],
   "source": [
    "from pyspark.ml.feature import Normalizer\n",
    "\n",
    "man_distance = Normalizer(p=1, inputCol=\"features\")\n",
    "foo = man_distance.transform(scaleDF)\n",
    "foo.show()\n",
    "foo.take(1)"
   ]
  },
  {
   "cell_type": "markdown",
   "metadata": {},
   "source": [
    "## Working with Categorical Features\n",
    "\n",
    "### StringIndexer"
   ]
  },
  {
   "cell_type": "code",
   "execution_count": 22,
   "metadata": {},
   "outputs": [
    {
     "name": "stdout",
     "output_type": "stream",
     "text": [
      "+-----+----+------+------------------+--------+\n",
      "|color| lab|value1|            value2|labelInd|\n",
      "+-----+----+------+------------------+--------+\n",
      "|green|good|     1|14.386294994851129|     1.0|\n",
      "| blue| bad|     8|14.386294994851129|     0.0|\n",
      "| blue| bad|    12|14.386294994851129|     0.0|\n",
      "|green|good|    15| 38.97187133755819|     1.0|\n",
      "|green|good|    12|14.386294994851129|     1.0|\n",
      "|green| bad|    16|14.386294994851129|     0.0|\n",
      "|  red|good|    35|14.386294994851129|     1.0|\n",
      "|  red| bad|     1| 38.97187133755819|     0.0|\n",
      "|  red| bad|     2|14.386294994851129|     0.0|\n",
      "|  red| bad|    16|14.386294994851129|     0.0|\n",
      "|  red|good|    45| 38.97187133755819|     1.0|\n",
      "|green|good|     1|14.386294994851129|     1.0|\n",
      "| blue| bad|     8|14.386294994851129|     0.0|\n",
      "| blue| bad|    12|14.386294994851129|     0.0|\n",
      "|green|good|    15| 38.97187133755819|     1.0|\n",
      "|green|good|    12|14.386294994851129|     1.0|\n",
      "|green| bad|    16|14.386294994851129|     0.0|\n",
      "|  red|good|    35|14.386294994851129|     1.0|\n",
      "|  red| bad|     1| 38.97187133755819|     0.0|\n",
      "|  red| bad|     2|14.386294994851129|     0.0|\n",
      "+-----+----+------+------------------+--------+\n",
      "only showing top 20 rows\n",
      "\n"
     ]
    }
   ],
   "source": [
    "from pyspark.ml.feature import StringIndexer\n",
    "\n",
    "# will transform good to 1. and bad to 0.\n",
    "lbl_indexer = StringIndexer(inputCol=\"lab\", outputCol=\"labelInd\")\n",
    "idx_res = lbl_indexer.fit(simpleDF).transform(simpleDF)\n",
    "idx_res.show()"
   ]
  },
  {
   "cell_type": "code",
   "execution_count": 23,
   "metadata": {},
   "outputs": [
    {
     "name": "stdout",
     "output_type": "stream",
     "text": [
      "+-----+----+------+------------------+--------+\n",
      "|color| lab|value1|            value2|valueInd|\n",
      "+-----+----+------+------------------+--------+\n",
      "|green|good|     1|14.386294994851129|     2.0|\n",
      "| blue| bad|     8|14.386294994851129|     4.0|\n",
      "| blue| bad|    12|14.386294994851129|     0.0|\n",
      "|green|good|    15| 38.97187133755819|     5.0|\n",
      "|green|good|    12|14.386294994851129|     0.0|\n",
      "|green| bad|    16|14.386294994851129|     1.0|\n",
      "|  red|good|    35|14.386294994851129|     6.0|\n",
      "|  red| bad|     1| 38.97187133755819|     2.0|\n",
      "|  red| bad|     2|14.386294994851129|     7.0|\n",
      "|  red| bad|    16|14.386294994851129|     1.0|\n",
      "|  red|good|    45| 38.97187133755819|     3.0|\n",
      "|green|good|     1|14.386294994851129|     2.0|\n",
      "| blue| bad|     8|14.386294994851129|     4.0|\n",
      "| blue| bad|    12|14.386294994851129|     0.0|\n",
      "|green|good|    15| 38.97187133755819|     5.0|\n",
      "|green|good|    12|14.386294994851129|     0.0|\n",
      "|green| bad|    16|14.386294994851129|     1.0|\n",
      "|  red|good|    35|14.386294994851129|     6.0|\n",
      "|  red| bad|     1| 38.97187133755819|     2.0|\n",
      "|  red| bad|     2|14.386294994851129|     7.0|\n",
      "+-----+----+------+------------------+--------+\n",
      "only showing top 20 rows\n",
      "\n"
     ]
    }
   ],
   "source": [
    "# also applicable to fields not being Strings, in this case, it will convert to string first\n",
    "# if a value to transform is not fitted, then it will skip it as per directive\n",
    "val_indexer = StringIndexer(inputCol=\"value1\", outputCol=\"valueInd\", handleInvalid=\"skip\")\n",
    "foo = val_indexer.fit(simpleDF).transform(simpleDF)\n",
    "foo.show()"
   ]
  },
  {
   "cell_type": "markdown",
   "metadata": {},
   "source": [
    "#### IndexToString\n",
    "\n",
    "When converting string to indexes, Spark keeps the mapping as metadata, when converting that back to strings, it will use this metadata to retrieve the original strings."
   ]
  },
  {
   "cell_type": "code",
   "execution_count": 24,
   "metadata": {},
   "outputs": [
    {
     "name": "stdout",
     "output_type": "stream",
     "text": [
      "+-----+----+------+------------------+--------+------------------------------------------+\n",
      "|color| lab|value1|            value2|labelInd|IndexToString_484aa95f19b4f26c9af5__output|\n",
      "+-----+----+------+------------------+--------+------------------------------------------+\n",
      "|green|good|     1|14.386294994851129|     1.0|                                      good|\n",
      "| blue| bad|     8|14.386294994851129|     0.0|                                       bad|\n",
      "| blue| bad|    12|14.386294994851129|     0.0|                                       bad|\n",
      "|green|good|    15| 38.97187133755819|     1.0|                                      good|\n",
      "|green|good|    12|14.386294994851129|     1.0|                                      good|\n",
      "|green| bad|    16|14.386294994851129|     0.0|                                       bad|\n",
      "|  red|good|    35|14.386294994851129|     1.0|                                      good|\n",
      "|  red| bad|     1| 38.97187133755819|     0.0|                                       bad|\n",
      "|  red| bad|     2|14.386294994851129|     0.0|                                       bad|\n",
      "|  red| bad|    16|14.386294994851129|     0.0|                                       bad|\n",
      "|  red|good|    45| 38.97187133755819|     1.0|                                      good|\n",
      "|green|good|     1|14.386294994851129|     1.0|                                      good|\n",
      "| blue| bad|     8|14.386294994851129|     0.0|                                       bad|\n",
      "| blue| bad|    12|14.386294994851129|     0.0|                                       bad|\n",
      "|green|good|    15| 38.97187133755819|     1.0|                                      good|\n",
      "|green|good|    12|14.386294994851129|     1.0|                                      good|\n",
      "|green| bad|    16|14.386294994851129|     0.0|                                       bad|\n",
      "|  red|good|    35|14.386294994851129|     1.0|                                      good|\n",
      "|  red| bad|     1| 38.97187133755819|     0.0|                                       bad|\n",
      "|  red| bad|     2|14.386294994851129|     0.0|                                       bad|\n",
      "+-----+----+------+------------------+--------+------------------------------------------+\n",
      "only showing top 20 rows\n",
      "\n"
     ]
    }
   ],
   "source": [
    "from pyspark.ml.feature import IndexToString\n",
    "\n",
    "label_reverse = IndexToString(inputCol=\"labelInd\")\n",
    "label_reverse.transform(idx_res).show()"
   ]
  },
  {
   "cell_type": "markdown",
   "metadata": {},
   "source": [
    "#### Indexing in Vectors\n",
    "\n",
    "It will find categorical values inside a vector (e.g. features) and it will allocate an index to just that element in the vector"
   ]
  },
  {
   "cell_type": "code",
   "execution_count": 25,
   "metadata": {},
   "outputs": [
    {
     "name": "stdout",
     "output_type": "stream",
     "text": [
      "+-------------+-----+\n",
      "|     features|label|\n",
      "+-------------+-----+\n",
      "|[1.0,2.0,3.0]|    1|\n",
      "|[2.0,5.0,6.0]|    2|\n",
      "|[1.0,8.0,9.0]|    3|\n",
      "+-------------+-----+\n",
      "\n",
      "+-------------+-----+-------------+\n",
      "|     features|label|        idxed|\n",
      "+-------------+-----+-------------+\n",
      "|[1.0,2.0,3.0]|    1|[0.0,2.0,3.0]|\n",
      "|[2.0,5.0,6.0]|    2|[1.0,5.0,6.0]|\n",
      "|[1.0,8.0,9.0]|    3|[0.0,8.0,9.0]|\n",
      "+-------------+-----+-------------+\n",
      "\n"
     ]
    }
   ],
   "source": [
    "from pyspark.ml.feature import VectorIndexer\n",
    "\n",
    "idx_in = spark.createDataFrame([(Vectors.dense(1, 2, 3), 1), \n",
    "                                (Vectors.dense(2, 5, 6), 2),\n",
    "                                (Vectors.dense(1, 8, 9), 3)]).toDF(\"features\", \"label\")\n",
    "idx_in.show()\n",
    "\n",
    "idxr = VectorIndexer(inputCol=\"features\", outputCol=\"idxed\", maxCategories=2)\n",
    "idxr.fit(idx_in).transform(idx_in).show()"
   ]
  },
  {
   "cell_type": "markdown",
   "metadata": {},
   "source": [
    "#### One-hot encoding"
   ]
  },
  {
   "cell_type": "code",
   "execution_count": 26,
   "metadata": {},
   "outputs": [
    {
     "name": "stdout",
     "output_type": "stream",
     "text": [
      "+-----+--------+------------------------------------------+\n",
      "|color|colorInd|OneHotEncoder_4c5e9739df945b9d6df6__output|\n",
      "+-----+--------+------------------------------------------+\n",
      "|green|     1.0|                             (2,[1],[1.0])|\n",
      "| blue|     2.0|                                 (2,[],[])|\n",
      "| blue|     2.0|                                 (2,[],[])|\n",
      "|green|     1.0|                             (2,[1],[1.0])|\n",
      "|green|     1.0|                             (2,[1],[1.0])|\n",
      "|green|     1.0|                             (2,[1],[1.0])|\n",
      "|  red|     0.0|                             (2,[0],[1.0])|\n",
      "|  red|     0.0|                             (2,[0],[1.0])|\n",
      "|  red|     0.0|                             (2,[0],[1.0])|\n",
      "|  red|     0.0|                             (2,[0],[1.0])|\n",
      "|  red|     0.0|                             (2,[0],[1.0])|\n",
      "|green|     1.0|                             (2,[1],[1.0])|\n",
      "| blue|     2.0|                                 (2,[],[])|\n",
      "| blue|     2.0|                                 (2,[],[])|\n",
      "|green|     1.0|                             (2,[1],[1.0])|\n",
      "|green|     1.0|                             (2,[1],[1.0])|\n",
      "|green|     1.0|                             (2,[1],[1.0])|\n",
      "|  red|     0.0|                             (2,[0],[1.0])|\n",
      "|  red|     0.0|                             (2,[0],[1.0])|\n",
      "|  red|     0.0|                             (2,[0],[1.0])|\n",
      "+-----+--------+------------------------------------------+\n",
      "only showing top 20 rows\n",
      "\n"
     ]
    }
   ],
   "source": [
    "from pyspark.ml.feature import OneHotEncoder, StringIndexer\n",
    "\n",
    "\n",
    "label_idxr = StringIndexer(inputCol=\"color\", outputCol=\"colorInd\")\n",
    "color_lab = label_idxr.fit(simpleDF).transform(simpleDF.select(\"color\"))\n",
    "ohe = OneHotEncoder(inputCol=\"colorInd\")\n",
    "ohe.transform(color_lab).show()  # as sparse vectors, obviously"
   ]
  },
  {
   "cell_type": "markdown",
   "metadata": {},
   "source": [
    "## Text Data Transformers\n",
    "\n",
    "### Tokenizing text"
   ]
  },
  {
   "cell_type": "code",
   "execution_count": 27,
   "metadata": {},
   "outputs": [
    {
     "name": "stdout",
     "output_type": "stream",
     "text": [
      "+-----------------------------------+------------------------------------------+\n",
      "|Description                        |DescOut                                   |\n",
      "+-----------------------------------+------------------------------------------+\n",
      "|RABBIT NIGHT LIGHT                 |[rabbit, night, light]                    |\n",
      "|DOUGHNUT LIP GLOSS                 |[doughnut, lip, gloss]                    |\n",
      "|12 MESSAGE CARDS WITH ENVELOPES    |[12, message, cards, with, envelopes]     |\n",
      "|BLUE HARMONICA IN BOX              |[blue, harmonica, in, box]                |\n",
      "|GUMBALL COAT RACK                  |[gumball, coat, rack]                     |\n",
      "|SKULLS  WATER TRANSFER TATTOOS     |[skulls, , water, transfer, tattoos]      |\n",
      "|FELTCRAFT GIRL AMELIE KIT          |[feltcraft, girl, amelie, kit]            |\n",
      "|CAMOUFLAGE LED TORCH               |[camouflage, led, torch]                  |\n",
      "|WHITE SKULL HOT WATER BOTTLE       |[white, skull, hot, water, bottle]        |\n",
      "|ENGLISH ROSE HOT WATER BOTTLE      |[english, rose, hot, water, bottle]       |\n",
      "|HOT WATER BOTTLE KEEP CALM         |[hot, water, bottle, keep, calm]          |\n",
      "|SCOTTIE DOG HOT WATER BOTTLE       |[scottie, dog, hot, water, bottle]        |\n",
      "|ROSE CARAVAN DOORSTOP              |[rose, caravan, doorstop]                 |\n",
      "|GINGHAM HEART  DOORSTOP RED        |[gingham, heart, , doorstop, red]         |\n",
      "|STORAGE TIN VINTAGE LEAF           |[storage, tin, vintage, leaf]             |\n",
      "|SET OF 4 KNICK KNACK TINS POPPIES  |[set, of, 4, knick, knack, tins, poppies] |\n",
      "|POPCORN HOLDER                     |[popcorn, holder]                         |\n",
      "|GROW A FLYTRAP OR SUNFLOWER IN TIN |[grow, a, flytrap, or, sunflower, in, tin]|\n",
      "|AIRLINE BAG VINTAGE WORLD CHAMPION |[airline, bag, vintage, world, champion]  |\n",
      "|AIRLINE BAG VINTAGE JET SET BROWN  |[airline, bag, vintage, jet, set, brown]  |\n",
      "+-----------------------------------+------------------------------------------+\n",
      "only showing top 20 rows\n",
      "\n"
     ]
    }
   ],
   "source": [
    "from pyspark.ml.feature import Tokenizer\n",
    "\n",
    "tkn = Tokenizer(inputCol=\"Description\", outputCol=\"DescOut\")\n",
    "tokenized = tkn.transform(sales.select(\"Description\"))\n",
    "tokenized.show(20, False)"
   ]
  },
  {
   "cell_type": "code",
   "execution_count": 28,
   "metadata": {},
   "outputs": [
    {
     "name": "stdout",
     "output_type": "stream",
     "text": [
      "+-----------------------------------+------------------------------------------+\n",
      "|Description                        |DescOut                                   |\n",
      "+-----------------------------------+------------------------------------------+\n",
      "|RABBIT NIGHT LIGHT                 |[rabbit, night, light]                    |\n",
      "|DOUGHNUT LIP GLOSS                 |[doughnut, lip, gloss]                    |\n",
      "|12 MESSAGE CARDS WITH ENVELOPES    |[12, message, cards, with, envelopes]     |\n",
      "|BLUE HARMONICA IN BOX              |[blue, harmonica, in, box]                |\n",
      "|GUMBALL COAT RACK                  |[gumball, coat, rack]                     |\n",
      "|SKULLS  WATER TRANSFER TATTOOS     |[skulls, water, transfer, tattoos]        |\n",
      "|FELTCRAFT GIRL AMELIE KIT          |[feltcraft, girl, amelie, kit]            |\n",
      "|CAMOUFLAGE LED TORCH               |[camouflage, led, torch]                  |\n",
      "|WHITE SKULL HOT WATER BOTTLE       |[white, skull, hot, water, bottle]        |\n",
      "|ENGLISH ROSE HOT WATER BOTTLE      |[english, rose, hot, water, bottle]       |\n",
      "|HOT WATER BOTTLE KEEP CALM         |[hot, water, bottle, keep, calm]          |\n",
      "|SCOTTIE DOG HOT WATER BOTTLE       |[scottie, dog, hot, water, bottle]        |\n",
      "|ROSE CARAVAN DOORSTOP              |[rose, caravan, doorstop]                 |\n",
      "|GINGHAM HEART  DOORSTOP RED        |[gingham, heart, doorstop, red]           |\n",
      "|STORAGE TIN VINTAGE LEAF           |[storage, tin, vintage, leaf]             |\n",
      "|SET OF 4 KNICK KNACK TINS POPPIES  |[set, of, 4, knick, knack, tins, poppies] |\n",
      "|POPCORN HOLDER                     |[popcorn, holder]                         |\n",
      "|GROW A FLYTRAP OR SUNFLOWER IN TIN |[grow, a, flytrap, or, sunflower, in, tin]|\n",
      "|AIRLINE BAG VINTAGE WORLD CHAMPION |[airline, bag, vintage, world, champion]  |\n",
      "|AIRLINE BAG VINTAGE JET SET BROWN  |[airline, bag, vintage, jet, set, brown]  |\n",
      "+-----------------------------------+------------------------------------------+\n",
      "only showing top 20 rows\n",
      "\n"
     ]
    }
   ],
   "source": [
    "# using regular expression\n",
    "from pyspark.ml.feature import RegexTokenizer\n",
    "\n",
    "rt = RegexTokenizer(inputCol=\"Description\", outputCol=\"DescOut\", pattern=\" \", toLowercase=True)\n",
    "rt.transform(sales.select(\"Description\")).show(20, False)"
   ]
  },
  {
   "cell_type": "markdown",
   "metadata": {},
   "source": [
    "### Removing common words (aka stop words)\n"
   ]
  },
  {
   "cell_type": "code",
   "execution_count": 29,
   "metadata": {},
   "outputs": [
    {
     "name": "stdout",
     "output_type": "stream",
     "text": [
      "+--------------------+--------------------+---------------------------------------------+\n",
      "|         Description|             DescOut|StopWordsRemover_49b2956a18ba0cee71f4__output|\n",
      "+--------------------+--------------------+---------------------------------------------+\n",
      "|  RABBIT NIGHT LIGHT|[rabbit, night, l...|                         [rabbit, night, l...|\n",
      "| DOUGHNUT LIP GLOSS |[doughnut, lip, g...|                         [doughnut, lip, g...|\n",
      "|12 MESSAGE CARDS ...|[12, message, car...|                         [12, message, car...|\n",
      "|BLUE HARMONICA IN...|[blue, harmonica,...|                         [blue, harmonica,...|\n",
      "|   GUMBALL COAT RACK|[gumball, coat, r...|                         [gumball, coat, r...|\n",
      "|SKULLS  WATER TRA...|[skulls, , water,...|                         [skulls, , water,...|\n",
      "|FELTCRAFT GIRL AM...|[feltcraft, girl,...|                         [feltcraft, girl,...|\n",
      "|CAMOUFLAGE LED TORCH|[camouflage, led,...|                         [camouflage, led,...|\n",
      "|WHITE SKULL HOT W...|[white, skull, ho...|                         [white, skull, ho...|\n",
      "|ENGLISH ROSE HOT ...|[english, rose, h...|                         [english, rose, h...|\n",
      "|HOT WATER BOTTLE ...|[hot, water, bott...|                         [hot, water, bott...|\n",
      "|SCOTTIE DOG HOT W...|[scottie, dog, ho...|                         [scottie, dog, ho...|\n",
      "|ROSE CARAVAN DOOR...|[rose, caravan, d...|                         [rose, caravan, d...|\n",
      "|GINGHAM HEART  DO...|[gingham, heart, ...|                         [gingham, heart, ...|\n",
      "|STORAGE TIN VINTA...|[storage, tin, vi...|                         [storage, tin, vi...|\n",
      "|SET OF 4 KNICK KN...|[set, of, 4, knic...|                         [set, 4, knick, k...|\n",
      "|      POPCORN HOLDER|   [popcorn, holder]|                            [popcorn, holder]|\n",
      "|GROW A FLYTRAP OR...|[grow, a, flytrap...|                         [grow, flytrap, s...|\n",
      "|AIRLINE BAG VINTA...|[airline, bag, vi...|                         [airline, bag, vi...|\n",
      "|AIRLINE BAG VINTA...|[airline, bag, vi...|                         [airline, bag, vi...|\n",
      "+--------------------+--------------------+---------------------------------------------+\n",
      "only showing top 20 rows\n",
      "\n"
     ]
    }
   ],
   "source": [
    "from pyspark.ml.feature import StopWordsRemover\n",
    "\n",
    "english_stop_words = StopWordsRemover.loadDefaultStopWords(\"english\")\n",
    "stops = StopWordsRemover(stopWords=english_stop_words, inputCol=\"DescOut\")\n",
    "stops.transform(tokenized).show()"
   ]
  },
  {
   "cell_type": "markdown",
   "metadata": {},
   "source": [
    "### Creating Ngrams (word combinations)"
   ]
  },
  {
   "cell_type": "code",
   "execution_count": 30,
   "metadata": {},
   "outputs": [
    {
     "name": "stdout",
     "output_type": "stream",
     "text": [
      "+--------------------+--------------------+----------------------------------+\n",
      "|         Description|             DescOut|NGram_42d0a27ded679308db85__output|\n",
      "+--------------------+--------------------+----------------------------------+\n",
      "|  RABBIT NIGHT LIGHT|[rabbit, night, l...|              [rabbit night, ni...|\n",
      "| DOUGHNUT LIP GLOSS |[doughnut, lip, g...|              [doughnut lip, li...|\n",
      "|12 MESSAGE CARDS ...|[12, message, car...|              [12 message, mess...|\n",
      "|BLUE HARMONICA IN...|[blue, harmonica,...|              [blue harmonica, ...|\n",
      "|   GUMBALL COAT RACK|[gumball, coat, r...|              [gumball coat, co...|\n",
      "|SKULLS  WATER TRA...|[skulls, , water,...|              [skulls ,  water,...|\n",
      "|FELTCRAFT GIRL AM...|[feltcraft, girl,...|              [feltcraft girl, ...|\n",
      "|CAMOUFLAGE LED TORCH|[camouflage, led,...|              [camouflage led, ...|\n",
      "|WHITE SKULL HOT W...|[white, skull, ho...|              [white skull, sku...|\n",
      "|ENGLISH ROSE HOT ...|[english, rose, h...|              [english rose, ro...|\n",
      "|HOT WATER BOTTLE ...|[hot, water, bott...|              [hot water, water...|\n",
      "|SCOTTIE DOG HOT W...|[scottie, dog, ho...|              [scottie dog, dog...|\n",
      "|ROSE CARAVAN DOOR...|[rose, caravan, d...|              [rose caravan, ca...|\n",
      "|GINGHAM HEART  DO...|[gingham, heart, ...|              [gingham heart, h...|\n",
      "|STORAGE TIN VINTA...|[storage, tin, vi...|              [storage tin, tin...|\n",
      "|SET OF 4 KNICK KN...|[set, of, 4, knic...|              [set of, of 4, 4 ...|\n",
      "|      POPCORN HOLDER|   [popcorn, holder]|                  [popcorn holder]|\n",
      "|GROW A FLYTRAP OR...|[grow, a, flytrap...|              [grow a, a flytra...|\n",
      "|AIRLINE BAG VINTA...|[airline, bag, vi...|              [airline bag, bag...|\n",
      "|AIRLINE BAG VINTA...|[airline, bag, vi...|              [airline bag, bag...|\n",
      "+--------------------+--------------------+----------------------------------+\n",
      "only showing top 20 rows\n",
      "\n"
     ]
    }
   ],
   "source": [
    "from pyspark.ml.feature import NGram\n",
    "\n",
    "bigram = NGram(inputCol=\"DescOut\", n=2)\n",
    "bigram.transform(tokenized).show()"
   ]
  },
  {
   "cell_type": "markdown",
   "metadata": {},
   "source": [
    "## Converting words into numerical representations\n",
    "\n",
    "### CountVectorizer\n",
    "\n",
    "\n"
   ]
  },
  {
   "cell_type": "code",
   "execution_count": 31,
   "metadata": {},
   "outputs": [
    {
     "name": "stdout",
     "output_type": "stream",
     "text": [
      "+--------------------+--------------------+--------------------+\n",
      "|         Description|             DescOut|            countVec|\n",
      "+--------------------+--------------------+--------------------+\n",
      "|  RABBIT NIGHT LIGHT|[rabbit, night, l...|(500,[150,185,212...|\n",
      "| DOUGHNUT LIP GLOSS |[doughnut, lip, g...|(500,[462,463,492...|\n",
      "|12 MESSAGE CARDS ...|[12, message, car...|(500,[35,41,166],...|\n",
      "|BLUE HARMONICA IN...|[blue, harmonica,...|(500,[10,16,36,35...|\n",
      "|   GUMBALL COAT RACK|[gumball, coat, r...|(500,[228,280,407...|\n",
      "|SKULLS  WATER TRA...|[skulls, , water,...|(500,[11,40,133],...|\n",
      "|FELTCRAFT GIRL AM...|[feltcraft, girl,...|(500,[60,64,69],[...|\n",
      "|CAMOUFLAGE LED TORCH|[camouflage, led,...|   (500,[263],[1.0])|\n",
      "|WHITE SKULL HOT W...|[white, skull, ho...|(500,[15,34,39,40...|\n",
      "|ENGLISH ROSE HOT ...|[english, rose, h...|(500,[34,39,40,46...|\n",
      "|HOT WATER BOTTLE ...|[hot, water, bott...|(500,[34,39,40,14...|\n",
      "|SCOTTIE DOG HOT W...|[scottie, dog, ho...|(500,[34,39,40,14...|\n",
      "|ROSE CARAVAN DOOR...|[rose, caravan, d...|(500,[46,297],[1....|\n",
      "|GINGHAM HEART  DO...|[gingham, heart, ...|(500,[3,4,11,143,...|\n",
      "|STORAGE TIN VINTA...|[storage, tin, vi...|(500,[6,45,109,16...|\n",
      "|SET OF 4 KNICK KN...|[set, of, 4, knic...|(500,[0,1,49,70,3...|\n",
      "|      POPCORN HOLDER|   [popcorn, holder]|(500,[21,296],[1....|\n",
      "|GROW A FLYTRAP OR...|[grow, a, flytrap...|(500,[36,45,378],...|\n",
      "|AIRLINE BAG VINTA...|[airline, bag, vi...|(500,[2,6,328],[1...|\n",
      "|AIRLINE BAG VINTA...|[airline, bag, vi...|(500,[0,2,6,328,4...|\n",
      "+--------------------+--------------------+--------------------+\n",
      "only showing top 20 rows\n",
      "\n"
     ]
    },
    {
     "data": {
      "text/plain": [
       "[Row(Description='RABBIT NIGHT LIGHT', DescOut=['rabbit', 'night', 'light'], countVec=SparseVector(500, {150: 1.0, 185: 1.0, 212: 1.0}))]"
      ]
     },
     "execution_count": 31,
     "metadata": {},
     "output_type": "execute_result"
    }
   ],
   "source": [
    "from pyspark.ml.feature import CountVectorizer\n",
    "\n",
    "cv = CountVectorizer(inputCol=\"DescOut\", outputCol=\"countVec\", vocabSize=500, minTF=1, minDF=2)\n",
    "fitted_cv = cv.fit(tokenized)\n",
    "foo = fitted_cv.transform(tokenized)\n",
    "foo.show()\n",
    "foo.take(1) # output is vocabSize, index of the word and word count"
   ]
  },
  {
   "cell_type": "markdown",
   "metadata": {},
   "source": [
    "### TF-IDF"
   ]
  },
  {
   "cell_type": "code",
   "execution_count": 32,
   "metadata": {},
   "outputs": [
    {
     "name": "stdout",
     "output_type": "stream",
     "text": [
      "+---------------------------------------+--------------------------------------------------------+--------------------------------------------------------------------------------------------------------------------+\n",
      "|DescOut                                |TFOut                                                   |IDFOut                                                                                                              |\n",
      "+---------------------------------------+--------------------------------------------------------+--------------------------------------------------------------------------------------------------------------------+\n",
      "|[gingham, heart, , doorstop, red]      |(10000,[3372,4291,4370,6594,9160],[1.0,1.0,1.0,1.0,1.0])|(10000,[3372,4291,4370,6594,9160],[1.2992829841302609,0.0,1.2992829841302609,1.2992829841302609,1.2992829841302609])|\n",
      "|[red, floral, feltcraft, shoulder, bag]|(10000,[155,1152,4291,5981,6756],[1.0,1.0,1.0,1.0,1.0]) |(10000,[155,1152,4291,5981,6756],[0.0,0.0,0.0,0.0,0.0])                                                             |\n",
      "|[alarm, clock, bakelike, red]          |(10000,[4291,4852,4995,9668],[1.0,1.0,1.0,1.0])         |(10000,[4291,4852,4995,9668],[0.0,0.0,0.0,0.0])                                                                     |\n",
      "|[pin, cushion, babushka, red]          |(10000,[4291,5111,5673,7153],[1.0,1.0,1.0,1.0])         |(10000,[4291,5111,5673,7153],[0.0,0.0,0.0,1.2992829841302609])                                                      |\n",
      "|[red, retrospot, mini, cases]          |(10000,[547,1576,2591,4291],[1.0,1.0,1.0,1.0])          |(10000,[547,1576,2591,4291],[0.0,0.0,1.0116009116784799,0.0])                                                       |\n",
      "|[red, kitchen, scales]                 |(10000,[3461,4291,6214],[1.0,1.0,1.0])                  |(10000,[3461,4291,6214],[0.0,0.0,0.0])                                                                              |\n",
      "|[gingham, heart, , doorstop, red]      |(10000,[3372,4291,4370,6594,9160],[1.0,1.0,1.0,1.0,1.0])|(10000,[3372,4291,4370,6594,9160],[1.2992829841302609,0.0,1.2992829841302609,1.2992829841302609,1.2992829841302609])|\n",
      "|[large, red, babushka, notebook]       |(10000,[2782,2787,4291,7153],[1.0,1.0,1.0,1.0])         |(10000,[2782,2787,4291,7153],[0.0,0.0,0.0,1.2992829841302609])                                                      |\n",
      "|[red, retrospot, oven, glove]          |(10000,[302,2591,4291,8242],[1.0,1.0,1.0,1.0])          |(10000,[302,2591,4291,8242],[0.0,1.0116009116784799,0.0,0.0])                                                       |\n",
      "|[red, retrospot, plate]                |(10000,[2591,4291,4456],[1.0,1.0,1.0])                  |(10000,[2591,4291,4456],[1.0116009116784799,0.0,0.0])                                                               |\n",
      "+---------------------------------------+--------------------------------------------------------+--------------------------------------------------------------------------------------------------------------------+\n",
      "\n"
     ]
    }
   ],
   "source": [
    "from pyspark.ml.feature import HashingTF, IDF\n",
    "\n",
    "tf = HashingTF(inputCol=\"DescOut\", outputCol=\"TFOut\", numFeatures=10000)\n",
    "idf = IDF(inputCol=\"TFOut\", outputCol=\"IDFOut\", minDocFreq=2)\n",
    "\n",
    "tf_idf_in = tokenized.where(\"array_contains(DescOut, 'red')\").select('DescOut').limit(10)\n",
    "idf_in = tf.transform(tf_idf_in)\n",
    "idf.fit(idf_in).transform(idf_in).show(10, False)"
   ]
  },
  {
   "cell_type": "markdown",
   "metadata": {},
   "source": [
    "### Word2Vec"
   ]
  },
  {
   "cell_type": "code",
   "execution_count": 33,
   "metadata": {},
   "outputs": [
    {
     "name": "stdout",
     "output_type": "stream",
     "text": [
      "Text: Hi, I, heard, about, Spark/ Vector: [0.004204302234575153,0.050164113938808444,-0.017830849438905717]\n",
      "Text: I, wish, Java, could, use, case, classes/ Vector: [0.08075640493604754,-0.024336789468569413,-0.01091744750738144]\n",
      "Text: Logistic, regression, models, are, neat/ Vector: [-0.0315695621073246,-0.053468143194913866,-0.0891033224761486]\n"
     ]
    }
   ],
   "source": [
    "from pyspark.ml.feature import Word2Vec\n",
    "\n",
    "documentDF = spark.createDataFrame([(\"Hi I heard about Spark\".split(\" \"), ), \n",
    "                                    (\"I wish Java could use case classes\".split(\" \"), ), \n",
    "                                    (\"Logistic regression models are neat\".split(\" \"), )], [\"text\"])\n",
    "word2vec = Word2Vec(vectorSize=3, minCount=0, inputCol=\"text\", outputCol=\"result\")\n",
    "model = word2vec.fit(documentDF)\n",
    "result = model.transform(documentDF)\n",
    "for row in result.collect():\n",
    "    text, vector = row\n",
    "    print(\"Text: {}/ Vector: {}\".format(\", \".join(text), str(vector)))"
   ]
  },
  {
   "cell_type": "markdown",
   "metadata": {},
   "source": [
    "## Feature Manipulation\n",
    "\n",
    "### PCA"
   ]
  },
  {
   "cell_type": "code",
   "execution_count": 34,
   "metadata": {},
   "outputs": [
    {
     "name": "stdout",
     "output_type": "stream",
     "text": [
      "+---+--------------+------------------------------------------+\n",
      "|id |features      |PCA_46b280937b5b70f26de5__output          |\n",
      "+---+--------------+------------------------------------------+\n",
      "|0  |[1.0,0.1,-1.0]|[0.07137194992484153,-0.45266548881478463]|\n",
      "|1  |[2.0,1.1,1.0] |[-1.6804946984073725,1.2593401322219144]  |\n",
      "|0  |[1.0,0.1,-1.0]|[0.07137194992484153,-0.45266548881478463]|\n",
      "|1  |[2.0,1.1,1.0] |[-1.6804946984073725,1.2593401322219144]  |\n",
      "|1  |[3.0,10.1,3.0]|[-10.872398139848944,0.030962697060149758]|\n",
      "+---+--------------+------------------------------------------+\n",
      "\n"
     ]
    }
   ],
   "source": [
    "from pyspark.ml.feature import PCA\n",
    "\n",
    "pca = PCA(inputCol=\"features\", k=2)\n",
    "pca.fit(scaleDF).transform(scaleDF).show(20, False)"
   ]
  },
  {
   "cell_type": "markdown",
   "metadata": {},
   "source": [
    "## Polynomial Expansion"
   ]
  },
  {
   "cell_type": "code",
   "execution_count": null,
   "metadata": {},
   "outputs": [],
   "source": [
    "from pyspark.ml.feature import PolynomialExpansion\n",
    "\n",
    "pe = PolynomialExpansion(inputCol=\"features\", degree=2)\n",
    "pe.transform(scaleDF).show(5, False)"
   ]
  },
  {
   "cell_type": "markdown",
   "metadata": {},
   "source": [
    "## Feature Selection\n",
    "\n",
    "### ChiSqSelector"
   ]
  },
  {
   "cell_type": "code",
   "execution_count": null,
   "metadata": {},
   "outputs": [],
   "source": [
    "from pyspark.ml.feature import ChiSqSelector, Tokenizer\n",
    "\n",
    "tkn = Tokenizer(inputCol=\"Description\", outputCol=\"DescOut\")\n",
    "tokenized = tkn.transform(sales.select(\"Description\", \"CustomerId\")).where(\"CustomerId IS NOT NULL\")\n",
    "prechi = fitted_cv.transform(tokenized).where(\"CustomerId IS NOT NULL\")\n",
    "chisq = ChiSqSelector(featuresCol=\"countVec\", labelCol=\"CustomerId\", numTopFeatures=2)\n",
    "chisq.fit(prechi).transform(prechi).drop(\"CustomerId\", \"Description\", \"DescOut\").show()"
   ]
  },
  {
   "cell_type": "markdown",
   "metadata": {},
   "source": [
    "## Persisting models\n",
    "\n"
   ]
  },
  {
   "cell_type": "code",
   "execution_count": null,
   "metadata": {},
   "outputs": [],
   "source": [
    "fitted_pca = pca.fit(scaleDF)\n",
    "fitted_pca.write().overwrite().save(\"../tmp/chapter-25-model\")\n",
    "\n",
    "from pyspark.ml.feature import PCAModel\n",
    "\n",
    "loaded_pca = PCAModel.load(\"../tmp/chapter-25-model\")\n",
    "loaded_pca.transform(scaleDF).show()"
   ]
  },
  {
   "cell_type": "code",
   "execution_count": null,
   "metadata": {},
   "outputs": [],
   "source": []
  }
 ],
 "metadata": {
  "kernelspec": {
   "display_name": "Python 3",
   "language": "python",
   "name": "python3"
  },
  "language_info": {
   "codemirror_mode": {
    "name": "ipython",
    "version": 3
   },
   "file_extension": ".py",
   "mimetype": "text/x-python",
   "name": "python",
   "nbconvert_exporter": "python",
   "pygments_lexer": "ipython3",
   "version": "3.6.1"
  }
 },
 "nbformat": 4,
 "nbformat_minor": 2
}
